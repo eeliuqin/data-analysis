{
 "cells": [
  {
   "cell_type": "markdown",
   "id": "7d9eaebe",
   "metadata": {},
   "source": [
    "# <center>Exploratory Data Analysis of Mobile Strategy Games</center>\n",
    "\n",
    "## Table of Contents\n",
    "\n",
    "* [1. Introduction](#introduction)\n",
    "* [2. Ask](#ask)\n",
    "    * [2.1 The business task](#business_task)\n",
    "    * [2.2 Key stakeholders](#key_stakeholder)\n",
    "* [3. Prepare](#prepare)\n",
    "    * [3.1 Data used](#data_used) \n",
    "    * [3.2 Importing the data](#importing) \n",
    "    * [3.3 Exploring the data](#exploring)\n",
    "* [4. Process](#process)\n",
    "* [5. Analyze and Share](#analyze)\n",
    "    * [Question 1: What kind of strategy games are the most?](#Question-1:-What-kind-of-strategy-games-are-the-most?)\n",
    "    * [Question 2: What kind of strategy games have the highest price?](#Question-2:-What-kind-of-strategy-games-have-the-highest-price?)\n",
    "    * [Question 3: What kind of strategy games have the highest rating?](#Question-3:-What-kind-of-strategy-games-have-the-highest-rating?)\n",
    "    * [Question 4: Who are the main competitors?](#Question-4:-Who-are-the-main-competitors?)\n",
    "* [6. Summary & Recommendations](#summary)"
   ]
  },
  {
   "cell_type": "markdown",
   "id": "a223e725",
   "metadata": {},
   "source": [
    "<a id=\"introduction\"></a>\n",
    "## 1. Introduction\n",
    "\n",
    "In this project, we'll pretend there is a fictional company called Gamemagician that develops mobile game apps. Gamemagician decides to create an app that focus on **Strategy Games**. We are hired as data analysts to do an exploratory data analysis, to help them get familiar with the current market and provide some suggestions."
   ]
  },
  {
   "cell_type": "markdown",
   "id": "ddeb15ae",
   "metadata": {},
   "source": [
    "<a id=\"ask\"></a>\n",
    "## 2. Ask\n",
    "\n",
    "<a id=\"business_task\"></a>\n",
    "### 2.1 The business task\n",
    "\n",
    "As data analysts, we need to analyze the strategy games based on the following sections:\n",
    "- Classifications\n",
    "- Price\n",
    "- User Ratings\n",
    "- Competitors\n",
    "\n",
    "Finally, we will provide recommendations about what kind of strategy games Gamemagician should create. Our report should be backed up with compelling data insights and professional data visualizations.\n",
    "\n",
    "<a id=\"key_stakeholder\"></a>\n",
    "### 2.2 Key stakeholders\n",
    "\n",
    "- **The analytics team we are working for**: A team of data analysts who are responsible for collecting, analyzing, and reporting data that helps guide Gamemagician marketing strategy.\n",
    "- **Gamemagician executive team**: The executive team of our client, Gamemagician. They are detail-oriented and will decide whether to approve our recommendations.\n"
   ]
  },
  {
   "cell_type": "markdown",
   "id": "665feaf8",
   "metadata": {},
   "source": [
    "<a id=\"prepare\"></a>\n",
    "## 3. Prepare\n",
    "<a id=\"data_used\"></a>\n",
    "### 3.1 Data used\n",
    "\n",
    "We're going to use the [17K Mobile Strategy Games dataset](https://www.kaggle.com/datasets/tristan581/17k-apple-app-store-strategy-games?select=appstore_games.csv) found in Kaggle. It's the data of 17007 strategy games on the Apple App Store, collected on Aug 03, 2019, using the iTunes API and the [App Store Sitemap](https://apps.apple.com/us/genre/ios-games/id6014).\n",
    "\n",
    "<a id=\"importing\"></a>\n",
    "### 3.2 Importing the data\n",
    "\n",
    "We need to download and import the csv file `appstore_games.csv` from the kaggle link."
   ]
  },
  {
   "cell_type": "code",
   "execution_count": 1,
   "id": "c6dc5b16",
   "metadata": {
    "scrolled": true
   },
   "outputs": [
    {
     "data": {
      "text/html": [
       "<div>\n",
       "<style scoped>\n",
       "    .dataframe tbody tr th:only-of-type {\n",
       "        vertical-align: middle;\n",
       "    }\n",
       "\n",
       "    .dataframe tbody tr th {\n",
       "        vertical-align: top;\n",
       "    }\n",
       "\n",
       "    .dataframe thead th {\n",
       "        text-align: right;\n",
       "    }\n",
       "</style>\n",
       "<table border=\"1\" class=\"dataframe\">\n",
       "  <thead>\n",
       "    <tr style=\"text-align: right;\">\n",
       "      <th></th>\n",
       "      <th>URL</th>\n",
       "      <th>ID</th>\n",
       "      <th>Name</th>\n",
       "      <th>Subtitle</th>\n",
       "      <th>Icon URL</th>\n",
       "      <th>Average User Rating</th>\n",
       "      <th>User Rating Count</th>\n",
       "      <th>Price</th>\n",
       "      <th>In-app Purchases</th>\n",
       "      <th>Description</th>\n",
       "      <th>Developer</th>\n",
       "      <th>Age Rating</th>\n",
       "      <th>Languages</th>\n",
       "      <th>Size</th>\n",
       "      <th>Primary Genre</th>\n",
       "      <th>Genres</th>\n",
       "      <th>Original Release Date</th>\n",
       "      <th>Current Version Release Date</th>\n",
       "    </tr>\n",
       "  </thead>\n",
       "  <tbody>\n",
       "    <tr>\n",
       "      <th>0</th>\n",
       "      <td>https://apps.apple.com/us/app/sudoku/id284921427</td>\n",
       "      <td>284921427</td>\n",
       "      <td>Sudoku</td>\n",
       "      <td>NaN</td>\n",
       "      <td>https://is2-ssl.mzstatic.com/image/thumb/Purpl...</td>\n",
       "      <td>4.0</td>\n",
       "      <td>3553.0</td>\n",
       "      <td>2.99</td>\n",
       "      <td>NaN</td>\n",
       "      <td>Join over 21,000,000 of our fans and download ...</td>\n",
       "      <td>Mighty Mighty Good Games</td>\n",
       "      <td>4+</td>\n",
       "      <td>DA, NL, EN, FI, FR, DE, IT, JA, KO, NB, PL, PT...</td>\n",
       "      <td>15853568.0</td>\n",
       "      <td>Games</td>\n",
       "      <td>Games, Strategy, Puzzle</td>\n",
       "      <td>11/07/2008</td>\n",
       "      <td>30/05/2017</td>\n",
       "    </tr>\n",
       "    <tr>\n",
       "      <th>1</th>\n",
       "      <td>https://apps.apple.com/us/app/reversi/id284926400</td>\n",
       "      <td>284926400</td>\n",
       "      <td>Reversi</td>\n",
       "      <td>NaN</td>\n",
       "      <td>https://is4-ssl.mzstatic.com/image/thumb/Purpl...</td>\n",
       "      <td>3.5</td>\n",
       "      <td>284.0</td>\n",
       "      <td>1.99</td>\n",
       "      <td>NaN</td>\n",
       "      <td>The classic game of Reversi, also known as Oth...</td>\n",
       "      <td>Kiss The Machine</td>\n",
       "      <td>4+</td>\n",
       "      <td>EN</td>\n",
       "      <td>12328960.0</td>\n",
       "      <td>Games</td>\n",
       "      <td>Games, Strategy, Board</td>\n",
       "      <td>11/07/2008</td>\n",
       "      <td>17/05/2018</td>\n",
       "    </tr>\n",
       "    <tr>\n",
       "      <th>2</th>\n",
       "      <td>https://apps.apple.com/us/app/morocco/id284946595</td>\n",
       "      <td>284946595</td>\n",
       "      <td>Morocco</td>\n",
       "      <td>NaN</td>\n",
       "      <td>https://is5-ssl.mzstatic.com/image/thumb/Purpl...</td>\n",
       "      <td>3.0</td>\n",
       "      <td>8376.0</td>\n",
       "      <td>0.00</td>\n",
       "      <td>NaN</td>\n",
       "      <td>Play the classic strategy game Othello (also k...</td>\n",
       "      <td>Bayou Games</td>\n",
       "      <td>4+</td>\n",
       "      <td>EN</td>\n",
       "      <td>674816.0</td>\n",
       "      <td>Games</td>\n",
       "      <td>Games, Board, Strategy</td>\n",
       "      <td>11/07/2008</td>\n",
       "      <td>5/09/2017</td>\n",
       "    </tr>\n",
       "    <tr>\n",
       "      <th>3</th>\n",
       "      <td>https://apps.apple.com/us/app/sudoku-free/id28...</td>\n",
       "      <td>285755462</td>\n",
       "      <td>Sudoku (Free)</td>\n",
       "      <td>NaN</td>\n",
       "      <td>https://is3-ssl.mzstatic.com/image/thumb/Purpl...</td>\n",
       "      <td>3.5</td>\n",
       "      <td>190394.0</td>\n",
       "      <td>0.00</td>\n",
       "      <td>NaN</td>\n",
       "      <td>Top 100 free app for over a year.\\nRated \"Best...</td>\n",
       "      <td>Mighty Mighty Good Games</td>\n",
       "      <td>4+</td>\n",
       "      <td>DA, NL, EN, FI, FR, DE, IT, JA, KO, NB, PL, PT...</td>\n",
       "      <td>21552128.0</td>\n",
       "      <td>Games</td>\n",
       "      <td>Games, Strategy, Puzzle</td>\n",
       "      <td>23/07/2008</td>\n",
       "      <td>30/05/2017</td>\n",
       "    </tr>\n",
       "    <tr>\n",
       "      <th>4</th>\n",
       "      <td>https://apps.apple.com/us/app/senet-deluxe/id2...</td>\n",
       "      <td>285831220</td>\n",
       "      <td>Senet Deluxe</td>\n",
       "      <td>NaN</td>\n",
       "      <td>https://is1-ssl.mzstatic.com/image/thumb/Purpl...</td>\n",
       "      <td>3.5</td>\n",
       "      <td>28.0</td>\n",
       "      <td>2.99</td>\n",
       "      <td>NaN</td>\n",
       "      <td>\"Senet Deluxe - The Ancient Game of Life and A...</td>\n",
       "      <td>RoGame Software</td>\n",
       "      <td>4+</td>\n",
       "      <td>DA, NL, EN, FR, DE, EL, IT, JA, KO, NO, PT, RU...</td>\n",
       "      <td>34689024.0</td>\n",
       "      <td>Games</td>\n",
       "      <td>Games, Strategy, Board, Education</td>\n",
       "      <td>18/07/2008</td>\n",
       "      <td>22/07/2018</td>\n",
       "    </tr>\n",
       "  </tbody>\n",
       "</table>\n",
       "</div>"
      ],
      "text/plain": [
       "                                                 URL         ID  \\\n",
       "0   https://apps.apple.com/us/app/sudoku/id284921427  284921427   \n",
       "1  https://apps.apple.com/us/app/reversi/id284926400  284926400   \n",
       "2  https://apps.apple.com/us/app/morocco/id284946595  284946595   \n",
       "3  https://apps.apple.com/us/app/sudoku-free/id28...  285755462   \n",
       "4  https://apps.apple.com/us/app/senet-deluxe/id2...  285831220   \n",
       "\n",
       "            Name Subtitle                                           Icon URL  \\\n",
       "0         Sudoku      NaN  https://is2-ssl.mzstatic.com/image/thumb/Purpl...   \n",
       "1        Reversi      NaN  https://is4-ssl.mzstatic.com/image/thumb/Purpl...   \n",
       "2        Morocco      NaN  https://is5-ssl.mzstatic.com/image/thumb/Purpl...   \n",
       "3  Sudoku (Free)      NaN  https://is3-ssl.mzstatic.com/image/thumb/Purpl...   \n",
       "4   Senet Deluxe      NaN  https://is1-ssl.mzstatic.com/image/thumb/Purpl...   \n",
       "\n",
       "   Average User Rating  User Rating Count  Price In-app Purchases  \\\n",
       "0                  4.0             3553.0   2.99              NaN   \n",
       "1                  3.5              284.0   1.99              NaN   \n",
       "2                  3.0             8376.0   0.00              NaN   \n",
       "3                  3.5           190394.0   0.00              NaN   \n",
       "4                  3.5               28.0   2.99              NaN   \n",
       "\n",
       "                                         Description  \\\n",
       "0  Join over 21,000,000 of our fans and download ...   \n",
       "1  The classic game of Reversi, also known as Oth...   \n",
       "2  Play the classic strategy game Othello (also k...   \n",
       "3  Top 100 free app for over a year.\\nRated \"Best...   \n",
       "4  \"Senet Deluxe - The Ancient Game of Life and A...   \n",
       "\n",
       "                  Developer Age Rating  \\\n",
       "0  Mighty Mighty Good Games         4+   \n",
       "1          Kiss The Machine         4+   \n",
       "2               Bayou Games         4+   \n",
       "3  Mighty Mighty Good Games         4+   \n",
       "4           RoGame Software         4+   \n",
       "\n",
       "                                           Languages        Size  \\\n",
       "0  DA, NL, EN, FI, FR, DE, IT, JA, KO, NB, PL, PT...  15853568.0   \n",
       "1                                                 EN  12328960.0   \n",
       "2                                                 EN    674816.0   \n",
       "3  DA, NL, EN, FI, FR, DE, IT, JA, KO, NB, PL, PT...  21552128.0   \n",
       "4  DA, NL, EN, FR, DE, EL, IT, JA, KO, NO, PT, RU...  34689024.0   \n",
       "\n",
       "  Primary Genre                             Genres Original Release Date  \\\n",
       "0         Games            Games, Strategy, Puzzle            11/07/2008   \n",
       "1         Games             Games, Strategy, Board            11/07/2008   \n",
       "2         Games             Games, Board, Strategy            11/07/2008   \n",
       "3         Games            Games, Strategy, Puzzle            23/07/2008   \n",
       "4         Games  Games, Strategy, Board, Education            18/07/2008   \n",
       "\n",
       "  Current Version Release Date  \n",
       "0                   30/05/2017  \n",
       "1                   17/05/2018  \n",
       "2                    5/09/2017  \n",
       "3                   30/05/2017  \n",
       "4                   22/07/2018  "
      ]
     },
     "execution_count": 1,
     "metadata": {},
     "output_type": "execute_result"
    }
   ],
   "source": [
    "# import required libraries\n",
    "import pandas as pd\n",
    "import numpy as np\n",
    "import matplotlib.pyplot as plt\n",
    "import seaborn as sns\n",
    "\n",
    "%matplotlib inline\n",
    "\n",
    "# read the csv\n",
    "games = pd.read_csv(\"appstore_games.csv\")\n",
    "\n",
    "# check first 5 rows\n",
    "games.head()"
   ]
  },
  {
   "cell_type": "markdown",
   "id": "46b695c7",
   "metadata": {},
   "source": [
    "<a id=\"exploring\"></a>\n",
    "### 3.3 Exploring the data"
   ]
  },
  {
   "cell_type": "code",
   "execution_count": 3,
   "id": "075fb920",
   "metadata": {},
   "outputs": [
    {
     "data": {
      "text/plain": [
       "(17007, 18)"
      ]
     },
     "execution_count": 3,
     "metadata": {},
     "output_type": "execute_result"
    }
   ],
   "source": [
    "# data size\n",
    "games.shape"
   ]
  },
  {
   "cell_type": "code",
   "execution_count": null,
   "id": "46690e33",
   "metadata": {
    "scrolled": true
   },
   "outputs": [],
   "source": [
    "# get the type and count of missing values of each column \n",
    "games.info()"
   ]
  },
  {
   "cell_type": "markdown",
   "id": "1a62e6b7",
   "metadata": {},
   "source": [
    "What we can learn:\n",
    "\n",
    "- There are some columns with plenty of missing values. Among them, we don't care about `URL` and `Icon URL`. `ID` and `Subtitle` is not important since we've known the name and genres of the game. We can drop those columns later.\n",
    "\n",
    "- Rating related columns like `Average User Rating` and `User Rating Count` are critical, we will remove those rows without ratings.\n",
    "\n",
    "- Given such large value of `Size` and randomly checking some apps on app store, we can know the unit of `Size` should be bytes. To make it more readable, we will need to convert it to MB.\n",
    "\n",
    "- `Primary Genre` of the first 5 rows are all \"Games\", but we need to take care if it's not.\n",
    "\n",
    "- `Genres` consist of multiple genre string, it contains the primary genre \"Game\", but other than \"Strategy\", it also contains genres like \"Board\", \"Puzzle\", etc., we need to deal with that later.\n",
    "\n",
    "- `Original Release Date` and `Current Version Release Date` are objects, but what types of objects? String or datetime?\n",
    "\n",
    "First of all, let's check the unique values of `Primary Genre`"
   ]
  },
  {
   "cell_type": "code",
   "execution_count": null,
   "id": "a43c6c3a",
   "metadata": {
    "scrolled": true
   },
   "outputs": [],
   "source": [
    "games['Primary Genre'].unique()"
   ]
  },
  {
   "cell_type": "markdown",
   "id": "4c17942d",
   "metadata": {},
   "source": [
    "Some apps are not \"Games\", or at least not pure games. What are they?"
   ]
  },
  {
   "cell_type": "code",
   "execution_count": null,
   "id": "bad7dfea",
   "metadata": {
    "scrolled": false
   },
   "outputs": [],
   "source": [
    "# randomly check 10 apps that are not games\n",
    "games[games['Primary Genre'] != \"Games\"].sample(5, random_state=1)"
   ]
  },
  {
   "cell_type": "markdown",
   "id": "f13fd7ed",
   "metadata": {},
   "source": [
    "Those apps' primary goals are not being game apps, eventhough they can play like games. Therefore, we will remove those apps from our dataframe.\n",
    "\n",
    "Next, let's take a closer look at `Genres`."
   ]
  },
  {
   "cell_type": "code",
   "execution_count": null,
   "id": "075dfc51",
   "metadata": {},
   "outputs": [],
   "source": [
    "# get all unique genres\n",
    "genres = games['Genres'].str.split(',', expand=True).stack().str.strip()\n",
    "genres.unique()"
   ]
  },
  {
   "cell_type": "markdown",
   "id": "12780ce9",
   "metadata": {},
   "source": [
    "Some genres like \"Finance\", \"News\", \"Weather\", etc., are obviously not game apps. Does that mean the dataset is incorrect?\n",
    "Let's check some of them:"
   ]
  },
  {
   "cell_type": "code",
   "execution_count": null,
   "id": "40fbd855",
   "metadata": {
    "scrolled": true
   },
   "outputs": [],
   "source": [
    "games[games['Genres'].str.contains('Finance|News|Weather')].sample(9, random_state=1)"
   ]
  },
  {
   "cell_type": "markdown",
   "id": "5062bcc1",
   "metadata": {},
   "source": [
    "It turns out those apps are game apps, indeed. For example, \"Wall Street Online\" is not only a strategy game, but also a simulation game whose theme is finance related. For those apps, it's easier to understand what the app is by looking at its genres that are listed in [App Store Sitemap](https://apps.apple.com/us/genre/ios-games/id6014). Comparing all unique genres of the dataset with the sitemap, there is no \"Dice\" genre, and \"Educational\" is actually \"Education\". At last, here is the full list of all existing genres:\n",
    "\n",
    "- Action\n",
    "- Adventure\n",
    "- Board\n",
    "- Card\n",
    "- Casino\n",
    "- Casual\n",
    "- Education\n",
    "- Family\n",
    "- Music\n",
    "- Puzzle\n",
    "- Racing\n",
    "- Role Playing\n",
    "- Simulation\n",
    "- Sports\n",
    "- Strategy\n",
    "- Trivia\n",
    "- Word\n",
    "\n",
    "\n",
    "Our analysis will focus on above genres only, and later we will separate those apps by the list.\n",
    "\n",
    "Finally, let's check these 2 columns related to date:"
   ]
  },
  {
   "cell_type": "code",
   "execution_count": null,
   "id": "8e92ebc6",
   "metadata": {},
   "outputs": [],
   "source": [
    "print(games[\"Original Release Date\"].apply(lambda v: type(v)).unique())\n",
    "print(games[\"Current Version Release Date\"].apply(lambda v: type(v)).unique())"
   ]
  },
  {
   "cell_type": "markdown",
   "id": "31bbcd4e",
   "metadata": {},
   "source": [
    "They are string objects, we will need to convert them to datetime.\n",
    "\n",
    "<a id=\"process\"></a>\n",
    "## 4. Process\n",
    "\n",
    "In this step, we need to do data cleaning and manipulation."
   ]
  },
  {
   "cell_type": "code",
   "execution_count": null,
   "id": "f008777c",
   "metadata": {
    "scrolled": false
   },
   "outputs": [],
   "source": [
    "# drop unneeded columns\n",
    "games.drop(columns=[\"URL\", \"ID\", \"Subtitle\", \"Icon URL\"], inplace=True)\n",
    "\n",
    "# make the column names more code-friendly\n",
    "games.columns = [\n",
    "    'name',\n",
    "    'avg_user_rating',\n",
    "    'user_rating_count',\n",
    "    'price',\n",
    "    'in_app_purchase',\n",
    "    'description',\n",
    "    'developer',\n",
    "    'age_rating',\n",
    "    'languages',\n",
    "    'size',\n",
    "    'primary_genre',\n",
    "    'genres',\n",
    "    'release_date',\n",
    "    'current_version_date',\n",
    "    ]\n",
    "\n",
    "# remove data without ratings\n",
    "games = games[games['avg_user_rating'].notna() & games['user_rating_count'].notna()]\n",
    "\n",
    "# remove data whose primary genre is not \"Games\"\n",
    "games = games[games['primary_genre'] == 'Games']\n",
    "\n",
    "games_genre_list = [\n",
    "    'Action',\n",
    "    'Adventure',\n",
    "    'Board',\n",
    "    'Card',\n",
    "    'Casino',\n",
    "    'Casual',\n",
    "    'Education',\n",
    "    'Family',\n",
    "    'Music',\n",
    "    'Puzzle',\n",
    "    'Racing',\n",
    "    'Role Playing',\n",
    "    'Simulation',\n",
    "    'Sports',\n",
    "    'Strategy',\n",
    "    'Trivia',\n",
    "    'Word'\n",
    "]\n",
    "\n",
    "# convert genres to list\n",
    "def get_valid_list(str):\n",
    "    valid_str_list = []\n",
    "    str_list = str.split(',')\n",
    "    for s in str_list:\n",
    "        s = s.strip()\n",
    "        if s in games_genre_list and s not in valid_str_list:\n",
    "            valid_str_list.append(s)\n",
    "    return valid_str_list\n",
    "\n",
    "games['genres'] = games['genres'].apply(get_valid_list)\n",
    "\n",
    "# convert to MB\n",
    "games['size'] = round(games['size'] / 1e6, 1)\n",
    "games.rename(columns={'size': 'size_mb'}, inplace=True)\n",
    "\n",
    "# convert to datetime\n",
    "games['release_date'] = pd.to_datetime(games['release_date'], format='%d/%m/%Y')\n",
    "games['current_version_date'] = pd.to_datetime(games['current_version_date'], format='%d/%m/%Y')\n",
    "\n",
    "games.sample(5, random_state=1)"
   ]
  },
  {
   "cell_type": "markdown",
   "id": "db583434",
   "metadata": {},
   "source": [
    "<a id=\"analyze\"></a>\n",
    "## 5. Analyze and Share\n",
    "\n",
    "\n",
    "### Question 1: What kind of strategy games are the most?\n",
    "\n",
    "#### Genre\n",
    "In the section of exploring the data, most strategy apps also belong to other game genres. What genres show up most frequently with strategy? Which age_rating is used the most? Let's get the relationships between genres and age_rating:"
   ]
  },
  {
   "cell_type": "code",
   "execution_count": null,
   "id": "bec5236c",
   "metadata": {
    "scrolled": false
   },
   "outputs": [],
   "source": [
    "# get all values of age_rating\n",
    "age_rating_list = games['age_rating'].unique().tolist()\n",
    "\n",
    "# create a dataframe to display the relationships between genres and age_rating\n",
    "genre_relationships = pd.DataFrame(index=games_genre_list, columns=age_rating_list)\n",
    "genre_relationships.fillna(0, inplace=True)\n",
    "\n",
    "# get the frequency\n",
    "for row in games.itertuples():        \n",
    "    genre_relationships.loc[row.genres, row.age_rating] += 1\n",
    "\n",
    "genre_relationships"
   ]
  },
  {
   "cell_type": "markdown",
   "id": "63541b92",
   "metadata": {},
   "source": [
    "Let's visualize their relationships by a heatmap."
   ]
  },
  {
   "cell_type": "code",
   "execution_count": null,
   "id": "681e3bd5",
   "metadata": {
    "scrolled": true
   },
   "outputs": [],
   "source": [
    "# create a heatmap\n",
    "plt.figure(figsize=(9, 5))\n",
    "sns.heatmap(genre_relationships, cmap=\"BuPu\")\n",
    "plt.show()"
   ]
  },
  {
   "cell_type": "markdown",
   "id": "c994dced",
   "metadata": {},
   "source": [
    "As we can see from the heatmap, the most used genre is **Strategy**, which is normal since we're analyzing strategy games. For those multi-genres games, the most frequently show up genre is **Puzzle**, followed by Stimulation, while Casino, Music, Racing and Word have much lower frequency.\n",
    "\n",
    "As for the age rating, **4+** is most common, but \"17+\" is least common.\n",
    "\n",
    "#### Name"
   ]
  },
  {
   "cell_type": "code",
   "execution_count": null,
   "id": "c1c433f9",
   "metadata": {
    "scrolled": true
   },
   "outputs": [],
   "source": [
    "from wordcloud import WordCloud\n",
    "\n",
    "wordcloud_name = WordCloud(max_words=100,\n",
    "                           background_color='white'\n",
    "                           ).generate(' '.join(games['name']))\n",
    "plt.figure(figsize=(9, 9))\n",
    "plt.imshow(wordcloud_name, interpolation=\"bilinear\")\n",
    "plt.axis(\"off\")\n",
    "plt.show()"
   ]
  },
  {
   "cell_type": "markdown",
   "id": "f366451c",
   "metadata": {},
   "source": [
    "The most often used names are \"War\", \"Battle\", which mean war is the most popular theme of strategy games. Many apps have features like \"Free\", \"Lite\" and \"HD\"."
   ]
  },
  {
   "cell_type": "markdown",
   "id": "8bce1882",
   "metadata": {},
   "source": [
    "#### Price"
   ]
  },
  {
   "cell_type": "code",
   "execution_count": null,
   "id": "f042ef29",
   "metadata": {},
   "outputs": [],
   "source": [
    "games.hist(column='price', bins=30, grid=False, figsize=(6,4), color='#4aa564')"
   ]
  },
  {
   "cell_type": "markdown",
   "id": "b7a2e7db",
   "metadata": {},
   "source": [
    "The price is highly skewed, most games are less than $5. Let's take a closer look at the distribution below 5:"
   ]
  },
  {
   "cell_type": "code",
   "execution_count": null,
   "id": "d9bdec23",
   "metadata": {},
   "outputs": [],
   "source": [
    "games[games['price'] <= 5].hist(column='price', bins=12, grid=False, figsize=(6,4), color='#4aa564')"
   ]
  },
  {
   "cell_type": "markdown",
   "id": "685865fd",
   "metadata": {},
   "source": [
    "Most games are free, and a small proportion is very close to $1. Let's divide the price to different groups, so we can use a pie chart to show their proportions:"
   ]
  },
  {
   "cell_type": "code",
   "execution_count": null,
   "id": "700813f1",
   "metadata": {
    "scrolled": true
   },
   "outputs": [],
   "source": [
    "def get_price_group(price):\n",
    "    if price == 0:\n",
    "        return 'free'\n",
    "    elif ((price > 0) & (price <= 1)):\n",
    "        return 'between 0 and 1'\n",
    "    elif ((price > 1) & (price <= 2)):\n",
    "        return 'between 1 and 2'    \n",
    "    elif ((price > 2) & (price <= 3)):\n",
    "        return 'between 2 and 3'\n",
    "    elif ((price > 3) & (price <= 4)):\n",
    "        return 'between 3 and 4'\n",
    "    elif ((price > 4) & (price <= 5)):\n",
    "        return 'between 4 and 5'\n",
    "    else:\n",
    "        return 'higher than 5'\n",
    "    \n",
    "# Add column `price_group`\n",
    "games['price_group'] = games['price'].apply(get_price_group)\n",
    "counts = games.groupby('price_group').size()\n",
    "\n",
    "# draw a pie chart\n",
    "plt.figure(figsize=(12, 6))\n",
    "palette_color = sns.color_palette('Set2')\n",
    "plt.pie(counts.values, labels=counts.index, startangle=0, colors=palette_color, autopct='%1.1f%%')\n",
    "plt.title('Price Distribution of Strategy Game Apps')\n",
    "plt.show()"
   ]
  },
  {
   "cell_type": "code",
   "execution_count": null,
   "id": "262693c0",
   "metadata": {},
   "outputs": [],
   "source": [
    "counts"
   ]
  },
  {
   "cell_type": "markdown",
   "id": "1cc06847",
   "metadata": {},
   "source": [
    "Actually, some of free apps offer in app purchase, but the in app purchase have so many choices, it's inconvenient to group the free apps by those choices. So we keep free apps as one group.\n",
    "\n",
    "To better understand the price distribution, we still need to calculate the percentage of those in app purchase apps."
   ]
  },
  {
   "cell_type": "code",
   "execution_count": null,
   "id": "6515744b",
   "metadata": {},
   "outputs": [],
   "source": [
    "iap_free_games_cnt = games[(games['price_group'] == 'free') & (games['in_app_purchase'].notna())].shape[0]\n",
    "free_games_cnt = games[games['price_group'] == 'free'].shape[0]\n",
    "iap_ratio = round(iap_free_games_cnt / free_games_cnt * 100, 1)\n",
    "iap_ratio"
   ]
  },
  {
   "cell_type": "markdown",
   "id": "5ce58c81",
   "metadata": {},
   "source": [
    "As high as 67.9% of free apps offer in app purchase, i.e., 57% of total apps are free but may need you pay in app."
   ]
  },
  {
   "cell_type": "markdown",
   "id": "20d8163e",
   "metadata": {},
   "source": [
    "### Question 2: What kind of strategy games have the highest price?\n",
    "\n",
    "In Question 1 we've known the frequency of each genre, but we don't know the average price of each genre. This time we will seperate games that have `Strategy` genre only, from multiple genres games.\n",
    "\n",
    "#### Games with Highest Price"
   ]
  },
  {
   "cell_type": "code",
   "execution_count": null,
   "id": "3266de53",
   "metadata": {},
   "outputs": [],
   "source": [
    "game_prices = pd.DataFrame(columns = ['avg_price'], index = [x for x in games_genre_list])\n",
    "for g in games_genre_list:\n",
    "    if g != 'Strategy': # apps with multiple genres\n",
    "        mask = games['genres'].apply(lambda x: g in x)\n",
    "    else: # apps with one genre `Strategy` only\n",
    "        mask = games['genres'].apply(lambda x: g == ''.join(x))\n",
    "    selected_genre_df = games[mask]\n",
    "    count = selected_genre_df.shape[0]\n",
    "    sum_price = selected_genre_df['price'].sum()\n",
    "    avg_price = round(sum_price / count, 2)\n",
    "    \n",
    "    # add to the game_prices dataframe\n",
    "    game_prices.loc[g] = [avg_price]\n",
    "    \n",
    "game_prices = game_prices.sort_values(by=['avg_price'], ascending=False)\n",
    "game_prices"
   ]
  },
  {
   "cell_type": "markdown",
   "id": "4414af63",
   "metadata": {},
   "source": [
    "Its bar plot:"
   ]
  },
  {
   "cell_type": "code",
   "execution_count": null,
   "id": "fbc1c363",
   "metadata": {},
   "outputs": [],
   "source": [
    "# get average price of all apps\n",
    "avg_price = round(games['price'].mean(), 2)\n",
    "\n",
    "# create a horizontal bar plot\n",
    "palette = sns.color_palette(\"Blues\",n_colors=20)\n",
    "palette.reverse()\n",
    "plt.figure(figsize=(12, 8))\n",
    "sns.barplot(x='avg_price',\n",
    "            y=game_prices.index,\n",
    "            data=game_prices,\n",
    "            palette=palette)\n",
    " \n",
    "# create a vertical line to show the total average price\n",
    "plt.axvline(x = avg_price, color = 'r')\n",
    "plt.text(avg_price + 0.05, 12, f\"total average price: ${avg_price}\")\n",
    "plt.xlabel('Price')\n",
    "plt.ylabel('Genre')\n",
    "plt.title(\"Average Price Per Genre\")\n",
    "plt.show()"
   ]
  },
  {
   "cell_type": "markdown",
   "id": "2546a336",
   "metadata": {},
   "source": [
    "Those games that belong to both strategy and **Board** have highest average price. The price of pure strategy games are lower than total average price."
   ]
  },
  {
   "cell_type": "markdown",
   "id": "14e1fda4",
   "metadata": {},
   "source": [
    "### Question 3: What kind of strategy games have the highest rating?\n",
    "\n",
    "#### User Rating vs. Genre"
   ]
  },
  {
   "cell_type": "code",
   "execution_count": null,
   "id": "1205ff8c",
   "metadata": {},
   "outputs": [],
   "source": [
    "# get dictionary of each genre's ratings\n",
    "ratings_dict = dict()\n",
    "for g in games_genre_list:\n",
    "    if g != 'Strategy': # apps with multiple genres\n",
    "        mask = games['genres'].apply(lambda x: g in x)\n",
    "    else: # apps with one genre `Strategy` only\n",
    "        mask = games['genres'].apply(lambda x: g == ''.join(x))\n",
    "    selected_genre_df = games[mask]\n",
    "    ratings_dict[g] = selected_genre_df['avg_user_rating'].tolist()\n",
    "\n",
    "# create boxplots\n",
    "fig, ax = plt.subplots(figsize=(16,6))\n",
    "ax.boxplot(ratings_dict.values())\n",
    "ax.set_xticklabels(ratings_dict.keys())\n",
    "fig.suptitle('Average User Ratings')\n",
    "plt.show()"
   ]
  },
  {
   "cell_type": "markdown",
   "id": "7308f1d2",
   "metadata": {},
   "source": [
    "The max and 75th percentile of all genres look very similar, but the minimum ratings and the outliers lower the min values are different. Casino and Music have higher minimum average user ratings and less outliers, which means they have less \"unhappy\" customers, but that's normal, since in Question 1 we've known that they have much lower occurences than other genres.\n",
    "\n",
    "If we ignore those outliers, and set highest median and minimum ratings as our goal. The following is the list of \"well performed\" genres, that is, all ratings are higher than 3.5 and half user ratings are higher than 4.5:\n",
    "\n",
    "- Action\n",
    "- Casual\n",
    "- Family\n",
    "- Music\n",
    "- Puzzle\n",
    "- Role Playing\n",
    "- Strategy(as the only genre)\n",
    "\n",
    "The following is the list of \"under behaved\" genres, that is, a 1/4 ratings are lower than 3.5, and minimum ratings are as low as 2.0:\n",
    "\n",
    "- Adventure\n",
    "- Board\n",
    "- Education\n",
    "- Racing\n",
    "- Simulation\n",
    "- Sports\n",
    "- Trivia\n",
    "- Word\n",
    "\n",
    "Next, let's check if other features, like `price`, `age_rating` and `size`, may influence the average user rating."
   ]
  },
  {
   "cell_type": "markdown",
   "id": "d4b2f7c2",
   "metadata": {},
   "source": [
    "#### User Rating vs. Price Group"
   ]
  },
  {
   "cell_type": "code",
   "execution_count": null,
   "id": "613619bf",
   "metadata": {},
   "outputs": [],
   "source": [
    "plt.figure(figsize=(12, 6))\n",
    "sns.boxplot(y='avg_user_rating',\n",
    "            x='price_group', \n",
    "            data=games,\n",
    "            order = [\n",
    "                'free',\n",
    "                'between 0 and 1',\n",
    "                'between 1 and 2',\n",
    "                'between 2 and 3',\n",
    "                'between 3 and 4',\n",
    "                'between 4 and 5',\n",
    "                'higher than 5'\n",
    "            ],\n",
    "            palette='Set2',\n",
    "            medianprops=dict(color=\"red\"),\n",
    "            hue='price_group')\n",
    "plt.legend([],[], frameon=False)\n",
    "plt.show()"
   ]
  },
  {
   "cell_type": "markdown",
   "id": "64a818d9",
   "metadata": {},
   "source": [
    "In general, apps whose prices are higher than \\\\$3 have higher ratings, especially the apps between \\\\$3 - \\\\$5, half the ratings are higher than 4.5, and their minimum ratings are still higher than 3.5. \n",
    "As for those lower than \\\\$3, their performances are similar and are not that good."
   ]
  },
  {
   "cell_type": "markdown",
   "id": "2c265d58",
   "metadata": {},
   "source": [
    "#### User Rating vs. Age Rating"
   ]
  },
  {
   "cell_type": "code",
   "execution_count": null,
   "id": "5c846547",
   "metadata": {},
   "outputs": [],
   "source": [
    "plt.figure(figsize=(12, 6))\n",
    "sns.boxplot(y='avg_user_rating', x='age_rating', \n",
    "                 data=games, \n",
    "                 palette='Set2',\n",
    "                 medianprops=dict(color=\"red\"),\n",
    "                 hue='age_rating')\n",
    "plt.legend([],[], frameon=False)\n",
    "plt.show()"
   ]
  },
  {
   "cell_type": "markdown",
   "id": "331cabab",
   "metadata": {},
   "source": [
    "In general, users of apps with age rating \"9+\" and \"12+\" tend to give high ratings."
   ]
  },
  {
   "cell_type": "markdown",
   "id": "771b9fe0",
   "metadata": {},
   "source": [
    "#### User Rating vs. Size of App\n",
    "\n",
    "To group those apps by size, first of all, let's check its distribution by a histogram."
   ]
  },
  {
   "cell_type": "code",
   "execution_count": null,
   "id": "6b05bd1a",
   "metadata": {},
   "outputs": [],
   "source": [
    "sns.histplot(data=games, x=\"size_mb\", bins=30)\n",
    "plt.show()"
   ]
  },
  {
   "cell_type": "markdown",
   "id": "1a6fd619",
   "metadata": {},
   "source": [
    "Based on its histogram, most apps are smaller than 125 MB. They can be divied into 4 groups:\n",
    "- 0 - 125 MB\n",
    "- 125 - 500 MB\n",
    "- 500 MB - 1 GB\n",
    "- Above 1 GB"
   ]
  },
  {
   "cell_type": "code",
   "execution_count": null,
   "id": "c72938e6",
   "metadata": {},
   "outputs": [],
   "source": [
    "def get_size_group(size):\n",
    "    if size <= 125:\n",
    "        return '0 - 125 MB'\n",
    "    elif ((size > 125) & (size <= 500)):\n",
    "        return '125 - 500 MB'\n",
    "    elif ((size > 500) & (size <= 1000)):\n",
    "        return '500 MB - 1 GB'    \n",
    "    else:\n",
    "        return 'Above 1 GB'\n",
    "    \n",
    "# Add column `size_group` to the dataframe\n",
    "games['size_group'] = games['size_mb'].apply(get_size_group)\n",
    "\n",
    "# create a boxplot\n",
    "plt.figure(figsize=(12, 6))\n",
    "sns.boxplot(y='avg_user_rating',\n",
    "            x='size_group', \n",
    "            data=games,\n",
    "            palette='Paired',\n",
    "            hue='price_group',\n",
    "            order = [\n",
    "                '0 - 125 MB',\n",
    "                '125 - 500 MB',\n",
    "                '500 MB - 1 GB',\n",
    "                'Above 1 GB'\n",
    "            ],\n",
    "            hue_order = [\n",
    "                'free',\n",
    "                'between 0 and 1',\n",
    "                'between 1 and 2',\n",
    "                'between 2 and 3',\n",
    "                'between 3 and 4',\n",
    "                'between 4 and 5',\n",
    "                'higher than 5'\n",
    "            ],            \n",
    "            medianprops=dict(color=\"orange\"))\n",
    "plt.show()"
   ]
  },
  {
   "cell_type": "markdown",
   "id": "c1c7acc9",
   "metadata": {},
   "source": [
    "What we can learn from above plot:\n",
    "- for apps smaller than 125 MB, those more expensive than \\\\$3 have higher user ratings. \n",
    "- for apps 125 - 500 MB, those cheaper than \\\\$3 have higher user ratings.\n",
    "- for apps 500 MB - 1 GB, those free apps have higher user ratings.\n",
    "- for apps larger than 1 GB, those more expensive than \\\\$5 or free have higher user ratings."
   ]
  },
  {
   "cell_type": "markdown",
   "id": "ed47853d",
   "metadata": {},
   "source": [
    "### Question 4: Who are the main competitors?\n",
    "\n",
    "First of all, we need to group the games by developer so we can know the number of games each developer created."
   ]
  },
  {
   "cell_type": "code",
   "execution_count": null,
   "id": "dd3dd9f6",
   "metadata": {
    "scrolled": true
   },
   "outputs": [],
   "source": [
    "# grouped by developer\n",
    "devs = games.groupby('developer')\n",
    "\n",
    "# get number of apps per developer\n",
    "devs_app_size = devs.size().sort_values(ascending=False)\n",
    "\n",
    "# get average user ratings per developer\n",
    "devs_user_rating = devs.agg(col_name=('avg_user_rating', 'mean'))\n",
    "\n",
    "# merge them\n",
    "devs_merged = pd.merge(devs_app_size.to_frame(), devs_user_rating, left_index = True, right_index = True)\n",
    "devs_merged.reset_index(inplace=True)\n",
    "devs_merged.columns = ['developer', 'app_count', 'avg_user_rating']\n",
    "devs_merged"
   ]
  },
  {
   "cell_type": "markdown",
   "id": "51159524",
   "metadata": {},
   "source": [
    "The developer that created most number of apps has a strange name \"Tapps Tecnologia da Informa\\xe7\\xe3o Ltda\", which might blame to special characters. After searching online, we can find its correct name \"Tapps Tecnologia da Informação Ltda\"."
   ]
  },
  {
   "cell_type": "code",
   "execution_count": null,
   "id": "49cd4cb3",
   "metadata": {},
   "outputs": [],
   "source": [
    "devs_merged.at[0, 'developer'] = 'Tapps Tecnologia da Informação Ltda'"
   ]
  },
  {
   "cell_type": "markdown",
   "id": "3136ea03",
   "metadata": {},
   "source": [
    "Here we define competitors as developers who have created most apps. and still have average user rating higher than 4.0, let's get the top 10 list."
   ]
  },
  {
   "cell_type": "code",
   "execution_count": null,
   "id": "c2dc2729",
   "metadata": {
    "scrolled": true
   },
   "outputs": [],
   "source": [
    "# get the competitors\n",
    "competitors = devs_merged[devs_merged['avg_user_rating'] > 4].reset_index(drop=True)\n",
    "competitors.head(10)"
   ]
  },
  {
   "cell_type": "markdown",
   "id": "1ff9153d",
   "metadata": {},
   "source": [
    "<a id=\"summary\"></a>\n",
    "## 6. Summary & Recommendations\n",
    "\n",
    "### Summary\n",
    "**Most Common**:\n",
    "\n",
    "- Genre: Games that belong to both Strategy and Puzzle.\n",
    "- Age Rating: Games whose age rating are \"4+\".\n",
    "- Price: Games that are free but offer in app purchase.\n",
    "- Name: Games whose names contain themes like \"War\", \"Battle\" or features like \"Free\", \"Lite\" and \"HD\".\n",
    "- Size: Below 125 MB.\n",
    "\n",
    "**Highest Price**:\n",
    "\n",
    "- Games that belong to both Strategy and Board have highest average price, but the price of pure strategy games are lower than total average price.\n",
    "\n",
    "**Highest Rating**\n",
    "\n",
    "- Genre: Action, Casual, Family, Music, Puzzle, Role Playing, and Strategy alone, have all ratings >= 3.5 and 50% of ratings higher than 4.5.\n",
    "- Age Rating: \"9+\" and \"12+\"\n",
    "- Price: Between \\\\$3 - \\$5\n",
    "- Size: \n",
    "    - Below 125 MB: Price higher than \\\\$3 \n",
    "    - 125 - 500 MB: Price lower than \\\\$3\n",
    "    - Above 500 MB: Free apps  \n",
    "    \n",
    "### Recommendations\n",
    "\n",
    "- For less competition, creating Action\\Casual\\Family\\Music\\Role Playing games, those genres also tend to have high user ratings.\n",
    "- Focus on apps smaller than 125 MB, between \\\\$3 and \\$5, and have \"9+\" or \"12+\" age rating.\n",
    "- Take a case study of Tecnologia da Informação Ltda and find out why it is so productive and has a high user rating."
   ]
  }
 ],
 "metadata": {
  "kernelspec": {
   "display_name": "Python 3 (ipykernel)",
   "language": "python",
   "name": "python3"
  },
  "language_info": {
   "codemirror_mode": {
    "name": "ipython",
    "version": 3
   },
   "file_extension": ".py",
   "mimetype": "text/x-python",
   "name": "python",
   "nbconvert_exporter": "python",
   "pygments_lexer": "ipython3",
   "version": "3.9.12"
  }
 },
 "nbformat": 4,
 "nbformat_minor": 5
}
