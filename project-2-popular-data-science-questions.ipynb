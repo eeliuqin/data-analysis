{
 "cells": [
  {
   "cell_type": "markdown",
   "id": "e3f03c70",
   "metadata": {},
   "source": [
    "# <center>The Most Popular Data Science Questions</center>\n",
    "## Table of Contents\n",
    "\n",
    "* [1. Introduction](#introduction)\n",
    "* [2. Ask](#ask)\n",
    "    * [2.1 The business task](#business_task)\n",
    "    * [2.2 Key stakeholders](#key_stakeholder)\n",
    "* [3. Prepare](#prepare)\n",
    "    * [3.1 Data source](#data_source)\n",
    "        * [3.1.1 Accessibility and privacy](#data_privacy)\n",
    "        * [3.1.2 Data organization](#data_organization) \n",
    "    * [3.2 Exploring the data](#exploring)\n",
    "* [4. Process](#process)\n",
    "* [5. Analyze and Share](#analyze)\n",
    "    * [Question 1: What questions are most popular?](#q1)\n",
    "    * [Question 2: Are these questions rising or falling in popularity?](#q2)\n",
    "    * [Question 3: When are these questions asked the most?](#q3)\n",
    "    * [Question 4: Is R potentially popular?](#q4)\n",
    "* [6. Act & Recommendations](#act)\n"
   ]
  },
  {
   "cell_type": "markdown",
   "id": "280cee91",
   "metadata": {},
   "source": [
    "<a id=\"introduction\"></a>\n",
    "## 1. Introduction"
   ]
  },
  {
   "cell_type": "markdown",
   "id": "cd5bc1ac",
   "metadata": {},
   "source": [
    "In recent years, more and more people are learning professional knowledge through the Internet. [A report in 2017](https://www.techrepublic.com/article/report-59-of-employed-data-scientists-learned-skills-on-their-own-or-via-a-mooc/) indicates that up to 32% of full-time data scientists learned data science through online courses. Due to pandemic, the number should still be rising.\n",
    "\n",
    "In this project, there is a newly established fictional company called **Datamagician** that provides online education about Data Science. To attract more users, they want to create contents based on what people are most interested in Data Science. They hire us as data analysts and want some advice from us.\n",
    "\n",
    "They don't have any historical data for analyzing yet, so first and foremost, we need to find a reliable data source. After some investigation, we think **Stack Exchange** is good choice. It's a network of question-and-answer websites, one of its most famous website is Stack Overflow. It employs a reputation award system for its questions and answers. Each post is consists of one question and multiple answers, and question/answer is subject to upvotes and downvotes. This ensures that good posts are easily identifiable. Moreover, it provides a link to query and explore its database.\n",
    "\n",
    "Given that, we are going to investigate its data sciense site **[Data Science Stack Exchange](https://datascience.stackexchange.com)** to determine what questions/topics are most popular, based on interest by subject. The database can be queried by [this link](https://data.stackexchange.com/datascience/query/new).   "
   ]
  },
  {
   "cell_type": "markdown",
   "id": "1088ab8a",
   "metadata": {},
   "source": [
    "<a name=\"ask\"></a>\n",
    "## 2. Ask\n",
    "\n",
    "<a id=\"business_task\"></a>\n",
    "### 2.1 The Business Task\n",
    "\n",
    "As data analysts, we need to analyze the data and find out the most popular data science questions, and provide recommendations about what content Datamagician should create. Our report should be backed up with compelling data insights and professional data visualizations.\n",
    "\n",
    "<a id=\"key_stakeholder\"></a>\n",
    "### 2.2 Key Stakeholders\n",
    "\n",
    "- **The analytics team we are working for**: A team of data analysts who are responsible for collecting, analyzing, and reporting data that helps guide Datamagician marketing strategy.\n",
    "- **Datamagician executive team**: The executive team of our client, Datamagician. They are detail-oriented and will decide whether to approve our recommendations.\n"
   ]
  },
  {
   "cell_type": "markdown",
   "id": "5b5b664d",
   "metadata": {},
   "source": [
    "<a id=\"prepare\"></a>\n",
    "## 3. Prepare\n",
    "\n",
    "<a id=\"data_source\"></a>\n",
    "### 3.1 Data source\n",
    "\n",
    "We can run SQL queries to download the dataset from [Data Science Stack Exchange Query](https://data.stackexchange.com/datascience/query/new).\n",
    "\n",
    "<a id=\"data_privacy\"></a>\n",
    "#### 3.1.1 Accessibility and privacy\n",
    "The license can be found [here](https://stackoverflow.com/help/licensing), we can use it to explore the most popular data science questions.\n",
    "\n",
    "<a id=\"data_organization\"></a>\n",
    "#### 3.1.2 Data organization\n",
    "\n",
    "By checking the table names in the dataset link above , the following seems related to our goal:\n",
    "\n",
    "|Database Schema|\n",
    "|----|\n",
    "|Comments|\n",
    "|Posts|\n",
    "|PostTags|\n",
    "|Tags|\n",
    "\n",
    "Let's double check by selecting a few rows of each table.\n",
    "\n",
    "**Comments**\n",
    "```\n",
    "SELECT TOP 1 * FROM Comments\n",
    "```\n",
    "\n",
    "The first row:\n",
    "\n",
    "|Id||PostId||Score||Text||CreationDate||UserDisplayName||UserId||ContentLicense|\n",
    "|--||--||--||---||----||----||----||----|\n",
    "|5||5||9||this is a super theoretical AI question. An interesting discussion! but out of place...||2014-05-14 00:23:15||||34||CC BY-SA 3.0|\n",
    "\n",
    "**Posts**\n",
    "```\n",
    "SELECT TOP 1 * FROM Posts\n",
    "```\n",
    "The first row:\n",
    "\n",
    "|Id||PostTypeId||AcceptedAnswerId||ParentId||CreationDate||DeletionDate||Score||ViewCount||Body||OwnerUserId||OwnerDisplayName||LastEditorUserId||LastEditorDisplayName||LastEditDate||LastActivityDate||Title||Tags||AnswerCount||CommentCount||FavoriteCount||ClosedDate||CommunityOwnedDate||ContentLicense|\n",
    "|--||--||--||--||--||--||--||--||--||--||--||--||--||--||--||--||--||--||--||--||--||--||--|\n",
    "|56889||1||||||2019-08-03 12:05:21||||2||185||<p>I'm trying to build a Deep Learning predictor that takes as the input a set of word vectors...</p>||25163||||25163||||2019-08-04 16:06:06||2022-02-27 02:01:30||Hyperbolic coordinates (Poincaré embeddings) as the output of a neural network||\\<deep-learning\\>\\<keras\\>\\<manifold\\>||1||1||||||||CC BY-SA 4.0|\n",
    "\n",
    "**PostTags**\n",
    "```\n",
    "SELECT TOP 1 * FROM PostTags\n",
    "```\n",
    "The first row:\n",
    "    \n",
    "|PostId||TagId|\n",
    "|---||---|\n",
    "|14||1|\n",
    "    \n",
    "**Tags**\n",
    "```\n",
    "SELECT TOP 1 * FROM Tags\n",
    "```\n",
    "The first row:\n",
    "    \n",
    "|Id||TagName||Count||ExcerptPostId||WikiPostId||IsModeratorOnly||IsRequired|\n",
    "|---||---||---||---||---||---||---|\n",
    "|1||definitions||37||105||104|||||||\n",
    "    \n",
    "   \n",
    "\n",
    "After comparing those tables, `Posts` table is our best option, we can group them by column `Tags`. While the other tables are not that good because:\n",
    "   \n",
    "* `Comments` doesn't have any tags so we cannot group them.\n",
    "* The data of `PostTags` are inplicit in `Posts`.\n",
    "* `Tags` doesn't have any date info, we cannot find its trend over time.\n",
    "  And its info is included in table `Posts`\n",
    "    \n",
    "As for `Posts` table, its column `PostTypeId` is the `Id` of `PostTypes` table, which is:\n",
    "    \n",
    "|Id||Name|\n",
    "|---||----|\n",
    "|1||Question|\n",
    "|2||Answer|\n",
    "|3||Wiki|\n",
    "|4||TagWikiExcerpt|\n",
    "|5||TagWiki|\n",
    "|6||ModeratorNomination|\n",
    "|7||WikiPlaceholder|\n",
    "|8||PrivilegeWiki|\n",
    "    \n",
    "Since we are investigating questions, we should only select posts with `PostTypeId` = 1. And we will focus on recent questions, by limiting the `CreationDate` from 2021 to current. Here is the query:\n",
    "```\n",
    "SELECT Id, CreationDate,\n",
    "       Score, ViewCount, Tags,\n",
    "       AnswerCount, FavoriteCount\n",
    "FROM Posts\n",
    "WHERE PostTypeId = 1 AND YEAR(CreationDate) >= 2021;\n",
    "```\n",
    "It returns 8137 rows, which should be enough for analyzing. Let's download and save it as CSV file `stackexchange_ds_qs_2021_202205.csv`."
   ]
  },
  {
   "cell_type": "markdown",
   "id": "4ff67e6d",
   "metadata": {},
   "source": [
    "<a id=\"exploring\"></a>\n",
    "### 3.2 Exploring the data\n",
    "\n",
    "#### Read the data"
   ]
  },
  {
   "cell_type": "code",
   "execution_count": 1,
   "id": "ce828b22",
   "metadata": {
    "scrolled": true
   },
   "outputs": [
    {
     "data": {
      "text/html": [
       "<div>\n",
       "<style scoped>\n",
       "    .dataframe tbody tr th:only-of-type {\n",
       "        vertical-align: middle;\n",
       "    }\n",
       "\n",
       "    .dataframe tbody tr th {\n",
       "        vertical-align: top;\n",
       "    }\n",
       "\n",
       "    .dataframe thead th {\n",
       "        text-align: right;\n",
       "    }\n",
       "</style>\n",
       "<table border=\"1\" class=\"dataframe\">\n",
       "  <thead>\n",
       "    <tr style=\"text-align: right;\">\n",
       "      <th></th>\n",
       "      <th>Id</th>\n",
       "      <th>CreationDate</th>\n",
       "      <th>Score</th>\n",
       "      <th>ViewCount</th>\n",
       "      <th>Tags</th>\n",
       "      <th>AnswerCount</th>\n",
       "      <th>FavoriteCount</th>\n",
       "    </tr>\n",
       "  </thead>\n",
       "  <tbody>\n",
       "    <tr>\n",
       "      <th>0</th>\n",
       "      <td>87391</td>\n",
       "      <td>2021-01-01 03:10:42</td>\n",
       "      <td>1</td>\n",
       "      <td>34</td>\n",
       "      <td>&lt;decision-trees&gt;</td>\n",
       "      <td>1</td>\n",
       "      <td>NaN</td>\n",
       "    </tr>\n",
       "    <tr>\n",
       "      <th>1</th>\n",
       "      <td>87392</td>\n",
       "      <td>2021-01-01 07:28:07</td>\n",
       "      <td>0</td>\n",
       "      <td>34</td>\n",
       "      <td>&lt;machine-learning&gt;&lt;python&gt;&lt;deep-learning&gt;&lt;imag...</td>\n",
       "      <td>1</td>\n",
       "      <td>NaN</td>\n",
       "    </tr>\n",
       "    <tr>\n",
       "      <th>2</th>\n",
       "      <td>87393</td>\n",
       "      <td>2021-01-01 08:07:33</td>\n",
       "      <td>1</td>\n",
       "      <td>21</td>\n",
       "      <td>&lt;neural-network&gt;&lt;deep-learning&gt;&lt;inception&gt;</td>\n",
       "      <td>0</td>\n",
       "      <td>NaN</td>\n",
       "    </tr>\n",
       "    <tr>\n",
       "      <th>3</th>\n",
       "      <td>87395</td>\n",
       "      <td>2021-01-01 10:31:51</td>\n",
       "      <td>1</td>\n",
       "      <td>45</td>\n",
       "      <td>&lt;machine-learning&gt;&lt;cloud&gt;&lt;federated-learning&gt;</td>\n",
       "      <td>1</td>\n",
       "      <td>1.0</td>\n",
       "    </tr>\n",
       "    <tr>\n",
       "      <th>4</th>\n",
       "      <td>87404</td>\n",
       "      <td>2021-01-01 18:00:21</td>\n",
       "      <td>1</td>\n",
       "      <td>59</td>\n",
       "      <td>&lt;reinforcement-learning&gt;&lt;openai-gym&gt;</td>\n",
       "      <td>1</td>\n",
       "      <td>NaN</td>\n",
       "    </tr>\n",
       "  </tbody>\n",
       "</table>\n",
       "</div>"
      ],
      "text/plain": [
       "      Id         CreationDate  Score  ViewCount  \\\n",
       "0  87391  2021-01-01 03:10:42      1         34   \n",
       "1  87392  2021-01-01 07:28:07      0         34   \n",
       "2  87393  2021-01-01 08:07:33      1         21   \n",
       "3  87395  2021-01-01 10:31:51      1         45   \n",
       "4  87404  2021-01-01 18:00:21      1         59   \n",
       "\n",
       "                                                Tags  AnswerCount  \\\n",
       "0                                   <decision-trees>            1   \n",
       "1  <machine-learning><python><deep-learning><imag...            1   \n",
       "2         <neural-network><deep-learning><inception>            0   \n",
       "3      <machine-learning><cloud><federated-learning>            1   \n",
       "4               <reinforcement-learning><openai-gym>            1   \n",
       "\n",
       "   FavoriteCount  \n",
       "0            NaN  \n",
       "1            NaN  \n",
       "2            NaN  \n",
       "3            1.0  \n",
       "4            NaN  "
      ]
     },
     "execution_count": 1,
     "metadata": {},
     "output_type": "execute_result"
    }
   ],
   "source": [
    "# import required libraries\n",
    "import pandas as pd\n",
    "import matplotlib.pyplot as plt\n",
    "import seaborn as sns\n",
    "from datetime import datetime\n",
    "\n",
    "%matplotlib inline\n",
    "\n",
    "# read the csv\n",
    "questions = pd.read_csv(\"stackexchange_ds_qs_2021_202205.csv\")\n",
    "\n",
    "# check the first 5 rows\n",
    "questions.head()"
   ]
  },
  {
   "cell_type": "markdown",
   "id": "5959c718",
   "metadata": {},
   "source": [
    "#### Data size"
   ]
  },
  {
   "cell_type": "code",
   "execution_count": 2,
   "id": "49173e50",
   "metadata": {},
   "outputs": [
    {
     "data": {
      "text/plain": [
       "(8137, 7)"
      ]
     },
     "execution_count": 2,
     "metadata": {},
     "output_type": "execute_result"
    }
   ],
   "source": [
    "questions.shape"
   ]
  },
  {
   "cell_type": "markdown",
   "id": "8934ff37",
   "metadata": {},
   "source": [
    "#### Find duplicates"
   ]
  },
  {
   "cell_type": "code",
   "execution_count": 3,
   "id": "a3f0c108",
   "metadata": {},
   "outputs": [
    {
     "data": {
      "text/html": [
       "<div>\n",
       "<style scoped>\n",
       "    .dataframe tbody tr th:only-of-type {\n",
       "        vertical-align: middle;\n",
       "    }\n",
       "\n",
       "    .dataframe tbody tr th {\n",
       "        vertical-align: top;\n",
       "    }\n",
       "\n",
       "    .dataframe thead th {\n",
       "        text-align: right;\n",
       "    }\n",
       "</style>\n",
       "<table border=\"1\" class=\"dataframe\">\n",
       "  <thead>\n",
       "    <tr style=\"text-align: right;\">\n",
       "      <th></th>\n",
       "      <th>Id</th>\n",
       "      <th>CreationDate</th>\n",
       "      <th>Score</th>\n",
       "      <th>ViewCount</th>\n",
       "      <th>Tags</th>\n",
       "      <th>AnswerCount</th>\n",
       "      <th>FavoriteCount</th>\n",
       "    </tr>\n",
       "  </thead>\n",
       "  <tbody>\n",
       "  </tbody>\n",
       "</table>\n",
       "</div>"
      ],
      "text/plain": [
       "Empty DataFrame\n",
       "Columns: [Id, CreationDate, Score, ViewCount, Tags, AnswerCount, FavoriteCount]\n",
       "Index: []"
      ]
     },
     "execution_count": 3,
     "metadata": {},
     "output_type": "execute_result"
    }
   ],
   "source": [
    "questions[questions.duplicated(['Id'], keep=False)]"
   ]
  },
  {
   "cell_type": "markdown",
   "id": "525c154d",
   "metadata": {},
   "source": [
    "The dataset has no duplicates.\n",
    "\n",
    "#### Check missing values"
   ]
  },
  {
   "cell_type": "code",
   "execution_count": 4,
   "id": "1f2eebf4",
   "metadata": {},
   "outputs": [
    {
     "name": "stdout",
     "output_type": "stream",
     "text": [
      "<class 'pandas.core.frame.DataFrame'>\n",
      "RangeIndex: 8137 entries, 0 to 8136\n",
      "Data columns (total 7 columns):\n",
      " #   Column         Non-Null Count  Dtype  \n",
      "---  ------         --------------  -----  \n",
      " 0   Id             8137 non-null   int64  \n",
      " 1   CreationDate   8137 non-null   object \n",
      " 2   Score          8137 non-null   int64  \n",
      " 3   ViewCount      8137 non-null   int64  \n",
      " 4   Tags           8137 non-null   object \n",
      " 5   AnswerCount    8137 non-null   int64  \n",
      " 6   FavoriteCount  650 non-null    float64\n",
      "dtypes: float64(1), int64(4), object(2)\n",
      "memory usage: 445.1+ KB\n"
     ]
    }
   ],
   "source": [
    "# Run `info()` to get each column's data type and count of NAs.\n",
    "questions.info()"
   ]
  },
  {
   "cell_type": "markdown",
   "id": "9ef234fb",
   "metadata": {},
   "source": [
    "All the missing values are in `FavoriteCount` column, what is it? In the first 5 rows, we can see the post with id `87395` has `FavoriteCount = 1` while id `87404` has `FavoriteCount = NaN`. After checking the corresponding post pages [Post 87395](https://datascience.stackexchange.com/questions/87395/dividing-a-dataset-to-parallelize-machine-learning-training-on-the-cloud) and [Post 87404](https://datascience.stackexchange.com/questions/87404/effects-of-slipperiness-in-openai-frozenlake-environment), we can find out FavoriteCount shows how many users have bookmarked that post, while NaN means that post has not bookmarked by any user.\n",
    "\n",
    "Therefore, we can replace the missing values with `0`. And we can change its data type to int, since count will not be float.\n",
    "\n",
    "Next, let's see what types the objects in `Tags` are."
   ]
  },
  {
   "cell_type": "code",
   "execution_count": 5,
   "id": "06f7c34c",
   "metadata": {},
   "outputs": [
    {
     "data": {
      "text/plain": [
       "array([<class 'str'>], dtype=object)"
      ]
     },
     "execution_count": 5,
     "metadata": {},
     "output_type": "execute_result"
    }
   ],
   "source": [
    "questions[\"Tags\"].apply(lambda v: type(v)).unique()"
   ]
  },
  {
   "cell_type": "markdown",
   "id": "bdc49b7b",
   "metadata": {},
   "source": [
    "Now we know that every value in this column is a string. Later we will need to change its format to make it more readable."
   ]
  },
  {
   "cell_type": "markdown",
   "id": "826292c3",
   "metadata": {},
   "source": [
    "<a id=\"process\"></a>\n",
    "## 4. Process\n",
    "\n",
    "As we've mentioned above, we need to fill up `FavoriteCount` and make `Tags` more readable."
   ]
  },
  {
   "cell_type": "code",
   "execution_count": 6,
   "id": "8d815d3a",
   "metadata": {},
   "outputs": [
    {
     "data": {
      "text/html": [
       "<div>\n",
       "<style scoped>\n",
       "    .dataframe tbody tr th:only-of-type {\n",
       "        vertical-align: middle;\n",
       "    }\n",
       "\n",
       "    .dataframe tbody tr th {\n",
       "        vertical-align: top;\n",
       "    }\n",
       "\n",
       "    .dataframe thead th {\n",
       "        text-align: right;\n",
       "    }\n",
       "</style>\n",
       "<table border=\"1\" class=\"dataframe\">\n",
       "  <thead>\n",
       "    <tr style=\"text-align: right;\">\n",
       "      <th></th>\n",
       "      <th>Id</th>\n",
       "      <th>CreationDate</th>\n",
       "      <th>Score</th>\n",
       "      <th>ViewCount</th>\n",
       "      <th>Tags</th>\n",
       "      <th>AnswerCount</th>\n",
       "      <th>FavoriteCount</th>\n",
       "    </tr>\n",
       "  </thead>\n",
       "  <tbody>\n",
       "    <tr>\n",
       "      <th>0</th>\n",
       "      <td>87391</td>\n",
       "      <td>2021-01-01 03:10:42</td>\n",
       "      <td>1</td>\n",
       "      <td>34</td>\n",
       "      <td>[decision-trees]</td>\n",
       "      <td>1</td>\n",
       "      <td>0</td>\n",
       "    </tr>\n",
       "    <tr>\n",
       "      <th>1</th>\n",
       "      <td>87392</td>\n",
       "      <td>2021-01-01 07:28:07</td>\n",
       "      <td>0</td>\n",
       "      <td>34</td>\n",
       "      <td>[machine-learning, python, deep-learning, imag...</td>\n",
       "      <td>1</td>\n",
       "      <td>0</td>\n",
       "    </tr>\n",
       "    <tr>\n",
       "      <th>2</th>\n",
       "      <td>87393</td>\n",
       "      <td>2021-01-01 08:07:33</td>\n",
       "      <td>1</td>\n",
       "      <td>21</td>\n",
       "      <td>[neural-network, deep-learning, inception]</td>\n",
       "      <td>0</td>\n",
       "      <td>0</td>\n",
       "    </tr>\n",
       "    <tr>\n",
       "      <th>3</th>\n",
       "      <td>87395</td>\n",
       "      <td>2021-01-01 10:31:51</td>\n",
       "      <td>1</td>\n",
       "      <td>45</td>\n",
       "      <td>[machine-learning, cloud, federated-learning]</td>\n",
       "      <td>1</td>\n",
       "      <td>1</td>\n",
       "    </tr>\n",
       "    <tr>\n",
       "      <th>4</th>\n",
       "      <td>87404</td>\n",
       "      <td>2021-01-01 18:00:21</td>\n",
       "      <td>1</td>\n",
       "      <td>59</td>\n",
       "      <td>[reinforcement-learning, openai-gym]</td>\n",
       "      <td>1</td>\n",
       "      <td>0</td>\n",
       "    </tr>\n",
       "  </tbody>\n",
       "</table>\n",
       "</div>"
      ],
      "text/plain": [
       "      Id         CreationDate  Score  ViewCount  \\\n",
       "0  87391  2021-01-01 03:10:42      1         34   \n",
       "1  87392  2021-01-01 07:28:07      0         34   \n",
       "2  87393  2021-01-01 08:07:33      1         21   \n",
       "3  87395  2021-01-01 10:31:51      1         45   \n",
       "4  87404  2021-01-01 18:00:21      1         59   \n",
       "\n",
       "                                                Tags  AnswerCount  \\\n",
       "0                                   [decision-trees]            1   \n",
       "1  [machine-learning, python, deep-learning, imag...            1   \n",
       "2         [neural-network, deep-learning, inception]            0   \n",
       "3      [machine-learning, cloud, federated-learning]            1   \n",
       "4               [reinforcement-learning, openai-gym]            1   \n",
       "\n",
       "   FavoriteCount  \n",
       "0              0  \n",
       "1              0  \n",
       "2              0  \n",
       "3              1  \n",
       "4              0  "
      ]
     },
     "execution_count": 6,
     "metadata": {},
     "output_type": "execute_result"
    }
   ],
   "source": [
    "# fill missing values with 0\n",
    "questions.fillna(0, inplace = True)\n",
    "\n",
    "# convert `FavoriteCount` to int\n",
    "questions[\"FavoriteCount\"] = questions[\"FavoriteCount\"].astype(int)\n",
    "\n",
    "# convert Tags to lowercase\n",
    "questions[\"Tags\"] = questions[\"Tags\"].str.lower()\n",
    "\n",
    "# make `Tags` more readable\n",
    "questions[\"Tags\"] = questions[\"Tags\"].str[1:-1].str.split(\"><\")\n",
    "\n",
    "# verify the first 5 rows\n",
    "questions.head()"
   ]
  },
  {
   "cell_type": "markdown",
   "id": "df128e4a",
   "metadata": {},
   "source": [
    "<a id=\"analyze\"></a>\n",
    "## 5. Analyze and Share\n",
    "\n",
    "Let's do a basic data analysis by answering below questions:\n",
    "<a id=\"q1\"></a>\n",
    "### Question 1: What questions are most popular?\n",
    "\n",
    "Our goal is to find the most popular questions (posts whose post type is questions), since posts are categoried by tags, we are actually looking for the most popular tags.\n",
    "\n",
    "However, \"popular\" is a ambiguous word, we will break it into 3 sub questions.\n",
    "\n",
    "#### Question a) Which tags are most used?"
   ]
  },
  {
   "cell_type": "code",
   "execution_count": 7,
   "id": "f7fac7fc",
   "metadata": {},
   "outputs": [],
   "source": [
    "tag_count = dict()\n",
    "\n",
    "for tags in questions[\"Tags\"]:\n",
    "    for tag in tags:\n",
    "        if tag in tag_count:\n",
    "            tag_count[tag] += 1\n",
    "        else:\n",
    "            tag_count[tag] = 1"
   ]
  },
  {
   "cell_type": "markdown",
   "id": "7e006efa",
   "metadata": {},
   "source": [
    "For convenience, we can convert it to a data frame:"
   ]
  },
  {
   "cell_type": "code",
   "execution_count": 8,
   "id": "2e5085a7",
   "metadata": {},
   "outputs": [
    {
     "data": {
      "text/html": [
       "<div>\n",
       "<style scoped>\n",
       "    .dataframe tbody tr th:only-of-type {\n",
       "        vertical-align: middle;\n",
       "    }\n",
       "\n",
       "    .dataframe tbody tr th {\n",
       "        vertical-align: top;\n",
       "    }\n",
       "\n",
       "    .dataframe thead th {\n",
       "        text-align: right;\n",
       "    }\n",
       "</style>\n",
       "<table border=\"1\" class=\"dataframe\">\n",
       "  <thead>\n",
       "    <tr style=\"text-align: right;\">\n",
       "      <th></th>\n",
       "      <th>Count</th>\n",
       "    </tr>\n",
       "  </thead>\n",
       "  <tbody>\n",
       "    <tr>\n",
       "      <th>machine-learning</th>\n",
       "      <td>2200</td>\n",
       "    </tr>\n",
       "    <tr>\n",
       "      <th>python</th>\n",
       "      <td>1457</td>\n",
       "    </tr>\n",
       "    <tr>\n",
       "      <th>deep-learning</th>\n",
       "      <td>1180</td>\n",
       "    </tr>\n",
       "    <tr>\n",
       "      <th>neural-network</th>\n",
       "      <td>747</td>\n",
       "    </tr>\n",
       "    <tr>\n",
       "      <th>nlp</th>\n",
       "      <td>703</td>\n",
       "    </tr>\n",
       "    <tr>\n",
       "      <th>...</th>\n",
       "      <td>...</td>\n",
       "    </tr>\n",
       "    <tr>\n",
       "      <th>lsi</th>\n",
       "      <td>1</td>\n",
       "    </tr>\n",
       "    <tr>\n",
       "      <th>ngboost</th>\n",
       "      <td>1</td>\n",
       "    </tr>\n",
       "    <tr>\n",
       "      <th>snorkel</th>\n",
       "      <td>1</td>\n",
       "    </tr>\n",
       "    <tr>\n",
       "      <th>labeling</th>\n",
       "      <td>1</td>\n",
       "    </tr>\n",
       "    <tr>\n",
       "      <th>odds</th>\n",
       "      <td>1</td>\n",
       "    </tr>\n",
       "  </tbody>\n",
       "</table>\n",
       "<p>623 rows × 1 columns</p>\n",
       "</div>"
      ],
      "text/plain": [
       "                  Count\n",
       "machine-learning   2200\n",
       "python             1457\n",
       "deep-learning      1180\n",
       "neural-network      747\n",
       "nlp                 703\n",
       "...                 ...\n",
       "lsi                   1\n",
       "ngboost               1\n",
       "snorkel               1\n",
       "labeling              1\n",
       "odds                  1\n",
       "\n",
       "[623 rows x 1 columns]"
      ]
     },
     "execution_count": 8,
     "metadata": {},
     "output_type": "execute_result"
    }
   ],
   "source": [
    "tag_count = pd.DataFrame.from_dict(tag_count, orient=\"index\", columns=[\"Count\"])\n",
    "\n",
    "# sort it by tags frequency ascending\n",
    "tag_count.sort_values(by=['Count'], ascending=False, inplace=True)\n",
    "tag_count"
   ]
  },
  {
   "cell_type": "markdown",
   "id": "51933c25",
   "metadata": {},
   "source": [
    "There are 623 tags, and many of them have 1 occurrences only. Let's focus on the top 30 (around 0.5% of 623) tags: "
   ]
  },
  {
   "cell_type": "code",
   "execution_count": 9,
   "id": "ef73977a",
   "metadata": {
    "scrolled": true
   },
   "outputs": [
    {
     "data": {
      "image/png": "[encoded data removed]",
      "text/plain": [
       "<Figure size 864x576 with 1 Axes>"
      ]
     },
     "metadata": {
      "needs_background": "light"
     },
     "output_type": "display_data"
    }
   ],
   "source": [
    "most_used = tag_count.head(30)\n",
    "plt.figure(figsize=(12, 8))\n",
    "sns.barplot(x='Count',\n",
    "            y=most_used.index,\n",
    "            data=most_used,\n",
    "            palette=\"Blues_r\").set(title='Top 30 Most Used Tags')\n",
    "plt.show()"
   ]
  },
  {
   "cell_type": "markdown",
   "id": "f8e6f4e8",
   "metadata": {},
   "source": [
    "#### Question b) Which Tags are Most Viewed?"
   ]
  },
  {
   "cell_type": "code",
   "execution_count": 10,
   "id": "0c4ce01d",
   "metadata": {},
   "outputs": [
    {
     "data": {
      "image/png": "[encoded data removed]",
      "text/plain": [
       "<Figure size 864x576 with 1 Axes>"
      ]
     },
     "metadata": {
      "needs_background": "light"
     },
     "output_type": "display_data"
    }
   ],
   "source": [
    "tag_view_count = dict()\n",
    "\n",
    "for index, row in questions.iterrows():\n",
    "    for tag in row['Tags']:\n",
    "        if tag in tag_view_count:\n",
    "            tag_view_count[tag] += row['ViewCount']\n",
    "        else:\n",
    "            tag_view_count[tag] = row['ViewCount']\n",
    "            \n",
    "tag_view_count = pd.DataFrame.from_dict(tag_view_count, orient=\"index\", columns=[\"ViewCount\"])\n",
    "\n",
    "# sort it by tags frequency ascending\n",
    "tag_view_count.sort_values(by=['ViewCount'], ascending=False, inplace=True)\n",
    "\n",
    "# plot the top 30 most viewed\n",
    "most_viewed = tag_view_count.head(30)\n",
    "plt.figure(figsize=(12, 8))\n",
    "sns.barplot(x='ViewCount',\n",
    "            y=most_viewed.index,\n",
    "            data=most_viewed,\n",
    "            palette=\"Greens_r\").set(title='Top 30 Most Viewed Tags')\n",
    "plt.show()"
   ]
  },
  {
   "cell_type": "markdown",
   "id": "dd92878a",
   "metadata": {},
   "source": [
    "#### Question c) Which Tags are Most Favorited?"
   ]
  },
  {
   "cell_type": "code",
   "execution_count": 11,
   "id": "0a312cbe",
   "metadata": {},
   "outputs": [
    {
     "data": {
      "image/png": "[encoded data removed]",
      "text/plain": [
       "<Figure size 864x576 with 1 Axes>"
      ]
     },
     "metadata": {
      "needs_background": "light"
     },
     "output_type": "display_data"
    }
   ],
   "source": [
    "tag_fav_count = dict()\n",
    "\n",
    "for index, row in questions.iterrows():\n",
    "    for tag in row['Tags']:\n",
    "        if tag in tag_fav_count:\n",
    "            tag_fav_count[tag] += row['FavoriteCount']\n",
    "        else:\n",
    "            tag_fav_count[tag] = row['FavoriteCount']\n",
    "            \n",
    "tag_fav_count = pd.DataFrame.from_dict(tag_fav_count, orient=\"index\", columns=[\"FavoriteCount\"])\n",
    "\n",
    "# sort it by tags frequency ascending\n",
    "tag_fav_count.sort_values(by=['FavoriteCount'], ascending=False, inplace=True)\n",
    "\n",
    "# plot the top 30\n",
    "most_favorited = tag_fav_count.head(30)\n",
    "plt.figure(figsize=(12, 8))\n",
    "sns.barplot(x='FavoriteCount',\n",
    "            y=most_favorited.index,\n",
    "            data=most_favorited,\n",
    "            palette=\"Reds_r\").set(title='Top 30 Most Favorited Tags')\n",
    "plt.show()"
   ]
  },
  {
   "cell_type": "markdown",
   "id": "97350b50",
   "metadata": {},
   "source": [
    "We've answered the 3 sub-questions by plots, let's put them in one row for comparision:"
   ]
  },
  {
   "cell_type": "code",
   "execution_count": 12,
   "id": "b17726f3",
   "metadata": {},
   "outputs": [
    {
     "data": {
      "image/png": "[encoded data removed]",
      "text/plain": [
       "<Figure size 1728x864 with 3 Axes>"
      ]
     },
     "metadata": {
      "needs_background": "light"
     },
     "output_type": "display_data"
    }
   ],
   "source": [
    "fig, axes = plt.subplots(nrows=1, ncols=3, figsize=(24,12))\n",
    "sns.despine(bottom = True, left = True)\n",
    "sns.barplot(x='Count',\n",
    "            y=most_used.index,\n",
    "            data=most_used,\n",
    "            ax=axes[0],\n",
    "            palette=\"Blues_r\").set(title='Top 30 Most Used Tags')\n",
    "sns.barplot(x='ViewCount',\n",
    "            y=most_viewed.index,\n",
    "            data=most_viewed,\n",
    "            ax=axes[1],\n",
    "            palette=\"Greens_r\").set(title='Top 30 Most Viewed Tags')\n",
    "sns.barplot(x='FavoriteCount',\n",
    "            y=most_favorited.index,\n",
    "            data=most_favorited,\n",
    "            ax=axes[2],\n",
    "            palette=\"Reds_r\").set(title='Top 30 Most Favorited Tags')\n",
    "\n",
    "plt.show()"
   ]
  },
  {
   "cell_type": "markdown",
   "id": "4335439d",
   "metadata": {},
   "source": [
    "As we can see from above plot, most tags rank differently in different plots, but we can still find some patterns. For example, `machine-learning`, `python` and `deep-learning` are always the top 3 tags in whichever list.\n",
    "\n",
    "Next, let's find all tags shared by 3 plots:"
   ]
  },
  {
   "cell_type": "code",
   "execution_count": 13,
   "id": "22eb694e",
   "metadata": {},
   "outputs": [
    {
     "data": {
      "text/html": [
       "<div>\n",
       "<style scoped>\n",
       "    .dataframe tbody tr th:only-of-type {\n",
       "        vertical-align: middle;\n",
       "    }\n",
       "\n",
       "    .dataframe tbody tr th {\n",
       "        vertical-align: top;\n",
       "    }\n",
       "\n",
       "    .dataframe thead th {\n",
       "        text-align: right;\n",
       "    }\n",
       "</style>\n",
       "<table border=\"1\" class=\"dataframe\">\n",
       "  <thead>\n",
       "    <tr style=\"text-align: right;\">\n",
       "      <th></th>\n",
       "      <th>Count</th>\n",
       "      <th>ViewCount</th>\n",
       "      <th>FavoriteCount</th>\n",
       "    </tr>\n",
       "  </thead>\n",
       "  <tbody>\n",
       "    <tr>\n",
       "      <th>machine-learning</th>\n",
       "      <td>2200</td>\n",
       "      <td>185735</td>\n",
       "      <td>248</td>\n",
       "    </tr>\n",
       "    <tr>\n",
       "      <th>python</th>\n",
       "      <td>1457</td>\n",
       "      <td>238437</td>\n",
       "      <td>101</td>\n",
       "    </tr>\n",
       "    <tr>\n",
       "      <th>deep-learning</th>\n",
       "      <td>1180</td>\n",
       "      <td>119743</td>\n",
       "      <td>120</td>\n",
       "    </tr>\n",
       "    <tr>\n",
       "      <th>neural-network</th>\n",
       "      <td>747</td>\n",
       "      <td>60335</td>\n",
       "      <td>60</td>\n",
       "    </tr>\n",
       "    <tr>\n",
       "      <th>nlp</th>\n",
       "      <td>703</td>\n",
       "      <td>65026</td>\n",
       "      <td>60</td>\n",
       "    </tr>\n",
       "    <tr>\n",
       "      <th>classification</th>\n",
       "      <td>693</td>\n",
       "      <td>50830</td>\n",
       "      <td>58</td>\n",
       "    </tr>\n",
       "    <tr>\n",
       "      <th>keras</th>\n",
       "      <td>603</td>\n",
       "      <td>95310</td>\n",
       "      <td>45</td>\n",
       "    </tr>\n",
       "    <tr>\n",
       "      <th>tensorflow</th>\n",
       "      <td>594</td>\n",
       "      <td>94016</td>\n",
       "      <td>39</td>\n",
       "    </tr>\n",
       "    <tr>\n",
       "      <th>time-series</th>\n",
       "      <td>515</td>\n",
       "      <td>36275</td>\n",
       "      <td>35</td>\n",
       "    </tr>\n",
       "    <tr>\n",
       "      <th>scikit-learn</th>\n",
       "      <td>456</td>\n",
       "      <td>76995</td>\n",
       "      <td>35</td>\n",
       "    </tr>\n",
       "    <tr>\n",
       "      <th>regression</th>\n",
       "      <td>322</td>\n",
       "      <td>19083</td>\n",
       "      <td>36</td>\n",
       "    </tr>\n",
       "    <tr>\n",
       "      <th>dataset</th>\n",
       "      <td>321</td>\n",
       "      <td>30822</td>\n",
       "      <td>20</td>\n",
       "    </tr>\n",
       "    <tr>\n",
       "      <th>cnn</th>\n",
       "      <td>320</td>\n",
       "      <td>47685</td>\n",
       "      <td>26</td>\n",
       "    </tr>\n",
       "    <tr>\n",
       "      <th>lstm</th>\n",
       "      <td>295</td>\n",
       "      <td>22310</td>\n",
       "      <td>18</td>\n",
       "    </tr>\n",
       "    <tr>\n",
       "      <th>pandas</th>\n",
       "      <td>274</td>\n",
       "      <td>78813</td>\n",
       "      <td>19</td>\n",
       "    </tr>\n",
       "    <tr>\n",
       "      <th>pytorch</th>\n",
       "      <td>265</td>\n",
       "      <td>35947</td>\n",
       "      <td>18</td>\n",
       "    </tr>\n",
       "    <tr>\n",
       "      <th>machine-learning-model</th>\n",
       "      <td>253</td>\n",
       "      <td>25141</td>\n",
       "      <td>27</td>\n",
       "    </tr>\n",
       "    <tr>\n",
       "      <th>data</th>\n",
       "      <td>200</td>\n",
       "      <td>18527</td>\n",
       "      <td>19</td>\n",
       "    </tr>\n",
       "    <tr>\n",
       "      <th>data-science-model</th>\n",
       "      <td>188</td>\n",
       "      <td>18801</td>\n",
       "      <td>22</td>\n",
       "    </tr>\n",
       "    <tr>\n",
       "      <th>transformer</th>\n",
       "      <td>177</td>\n",
       "      <td>37627</td>\n",
       "      <td>20</td>\n",
       "    </tr>\n",
       "    <tr>\n",
       "      <th>random-forest</th>\n",
       "      <td>173</td>\n",
       "      <td>20891</td>\n",
       "      <td>15</td>\n",
       "    </tr>\n",
       "  </tbody>\n",
       "</table>\n",
       "</div>"
      ],
      "text/plain": [
       "                        Count  ViewCount  FavoriteCount\n",
       "machine-learning         2200     185735            248\n",
       "python                   1457     238437            101\n",
       "deep-learning            1180     119743            120\n",
       "neural-network            747      60335             60\n",
       "nlp                       703      65026             60\n",
       "classification            693      50830             58\n",
       "keras                     603      95310             45\n",
       "tensorflow                594      94016             39\n",
       "time-series               515      36275             35\n",
       "scikit-learn              456      76995             35\n",
       "regression                322      19083             36\n",
       "dataset                   321      30822             20\n",
       "cnn                       320      47685             26\n",
       "lstm                      295      22310             18\n",
       "pandas                    274      78813             19\n",
       "pytorch                   265      35947             18\n",
       "machine-learning-model    253      25141             27\n",
       "data                      200      18527             19\n",
       "data-science-model        188      18801             22\n",
       "transformer               177      37627             20\n",
       "random-forest             173      20891             15"
      ]
     },
     "execution_count": 13,
     "metadata": {},
     "output_type": "execute_result"
    }
   ],
   "source": [
    "# get tags show up in all 3 plots\n",
    "used_viewed_tags = pd.merge(most_used, most_viewed, how=\"inner\", left_index=True, right_index=True)\n",
    "top_tags = pd.merge(used_viewed_tags, most_favorited, how=\"inner\", left_index=True, right_index=True)\n",
    "top_tags.sort_values(by=['Count'], ascending=False, inplace=True)\n",
    "top_tags"
   ]
  },
  {
   "cell_type": "markdown",
   "id": "829a8644",
   "metadata": {},
   "source": [
    "It returns 21 tags that are most used, viewed and favorited by people using Data Science Stack Exchange. We may notice some tags are not classified in a perfect way:\n",
    "\n",
    "* Some tags have overlap. For example, `machine-learning-model` is a subset of `machine-learning`. \n",
    "* Some tags are too general, like `python`.\n",
    "\n",
    "\n",
    "Given that, we can conclude the most popular questions are related to Machine Learning, because `python` is the most popular programming for machine learning. `deep-learning` is a subfield of machine learning, `neural-network` make up the backbone of deep learning algorithms.\n",
    "\n",
    "If machine learning is still too broad, to be more specific, we can suggest Datamagician create content focus on **Deep Learning**, using Python. And also suggest them provide practical tutorials for tools like `tensorflow` and `scikit-learn`."
   ]
  },
  {
   "cell_type": "markdown",
   "id": "4accf622",
   "metadata": {},
   "source": [
    "<a id=\"q2\"></a>\n",
    "### Question 2: Are these questions rising or falling in popularity?\n",
    "\n",
    "We've known the most popular questions from 2021 to current are about `deep-learning`. We focus on recent data because information in Internet is changing rapidly, questions years ago might not that helpful to us.\n",
    "\n",
    "However, we do care about the trend. Is the popularity rising or falling? What if it's actually falling quickly when it's still high for now? To answer such questions, we need to get all the historical data.\n",
    "\n",
    "#### Getting All the Historical Data\n",
    "\n",
    "Run the query below to get the whole questions dataset.\n",
    "\n",
    "```\n",
    "SELECT Id, CreationDate,\n",
    "       Score, ViewCount, Tags,\n",
    "       AnswerCount, FavoriteCount\n",
    "FROM Posts\n",
    "WHERE PostTypeId = 1;\n",
    "```\n",
    "\n",
    "Download and save the file as `stackexchange_ds_qs_all.csv`. Next, we will repeat the process as we did for questions of 2021-2022, and one extra step, we need to parse the column `CreationDate` to datetime since we need to find tags' popularity over time."
   ]
  },
  {
   "cell_type": "code",
   "execution_count": 14,
   "id": "800dddd3",
   "metadata": {
    "scrolled": true
   },
   "outputs": [
    {
     "data": {
      "text/html": [
       "<div>\n",
       "<style scoped>\n",
       "    .dataframe tbody tr th:only-of-type {\n",
       "        vertical-align: middle;\n",
       "    }\n",
       "\n",
       "    .dataframe tbody tr th {\n",
       "        vertical-align: top;\n",
       "    }\n",
       "\n",
       "    .dataframe thead th {\n",
       "        text-align: right;\n",
       "    }\n",
       "</style>\n",
       "<table border=\"1\" class=\"dataframe\">\n",
       "  <thead>\n",
       "    <tr style=\"text-align: right;\">\n",
       "      <th></th>\n",
       "      <th>Id</th>\n",
       "      <th>CreationDate</th>\n",
       "      <th>Score</th>\n",
       "      <th>ViewCount</th>\n",
       "      <th>Tags</th>\n",
       "      <th>AnswerCount</th>\n",
       "      <th>FavoriteCount</th>\n",
       "    </tr>\n",
       "  </thead>\n",
       "  <tbody>\n",
       "    <tr>\n",
       "      <th>0</th>\n",
       "      <td>5</td>\n",
       "      <td>2014-05-13 23:58:30</td>\n",
       "      <td>9</td>\n",
       "      <td>834</td>\n",
       "      <td>[machine-learning]</td>\n",
       "      <td>1</td>\n",
       "      <td>1</td>\n",
       "    </tr>\n",
       "    <tr>\n",
       "      <th>1</th>\n",
       "      <td>7</td>\n",
       "      <td>2014-05-14 00:11:06</td>\n",
       "      <td>4</td>\n",
       "      <td>463</td>\n",
       "      <td>[education, open-source]</td>\n",
       "      <td>3</td>\n",
       "      <td>1</td>\n",
       "    </tr>\n",
       "    <tr>\n",
       "      <th>2</th>\n",
       "      <td>14</td>\n",
       "      <td>2014-05-14 01:25:59</td>\n",
       "      <td>25</td>\n",
       "      <td>1878</td>\n",
       "      <td>[data-mining, definitions]</td>\n",
       "      <td>4</td>\n",
       "      <td>6</td>\n",
       "    </tr>\n",
       "    <tr>\n",
       "      <th>3</th>\n",
       "      <td>15</td>\n",
       "      <td>2014-05-14 01:41:23</td>\n",
       "      <td>2</td>\n",
       "      <td>650</td>\n",
       "      <td>[databases]</td>\n",
       "      <td>0</td>\n",
       "      <td>0</td>\n",
       "    </tr>\n",
       "    <tr>\n",
       "      <th>4</th>\n",
       "      <td>16</td>\n",
       "      <td>2014-05-14 01:57:56</td>\n",
       "      <td>17</td>\n",
       "      <td>424</td>\n",
       "      <td>[machine-learning, bigdata, libsvm]</td>\n",
       "      <td>2</td>\n",
       "      <td>0</td>\n",
       "    </tr>\n",
       "  </tbody>\n",
       "</table>\n",
       "</div>"
      ],
      "text/plain": [
       "   Id        CreationDate  Score  ViewCount  \\\n",
       "0   5 2014-05-13 23:58:30      9        834   \n",
       "1   7 2014-05-14 00:11:06      4        463   \n",
       "2  14 2014-05-14 01:25:59     25       1878   \n",
       "3  15 2014-05-14 01:41:23      2        650   \n",
       "4  16 2014-05-14 01:57:56     17        424   \n",
       "\n",
       "                                  Tags  AnswerCount  FavoriteCount  \n",
       "0                   [machine-learning]            1              1  \n",
       "1             [education, open-source]            3              1  \n",
       "2           [data-mining, definitions]            4              6  \n",
       "3                          [databases]            0              0  \n",
       "4  [machine-learning, bigdata, libsvm]            2              0  "
      ]
     },
     "execution_count": 14,
     "metadata": {},
     "output_type": "execute_result"
    }
   ],
   "source": [
    "# read the csv\n",
    "all_questions = pd.read_csv(\"stackexchange_ds_qs_all.csv\", parse_dates=[\"CreationDate\"])\n",
    "\n",
    "# fill missing values 0 and make `FavoriteCount` int\n",
    "all_questions.fillna(0, inplace = True)\n",
    "all_questions[\"FavoriteCount\"] = all_questions[\"FavoriteCount\"].astype(int)\n",
    "\n",
    "# make `Tags` more readable\n",
    "all_questions[\"Tags\"] = all_questions[\"Tags\"].str[1:-1].str.split(\"><\")\n",
    "\n",
    "# take a look at the first 5 rows\n",
    "all_questions.head()"
   ]
  },
  {
   "cell_type": "markdown",
   "id": "ada3f8e5",
   "metadata": {},
   "source": [
    "The data is as early as 2014, that's 8 years ago. The time span is 96 months, around 3000 days, apparently neither month nor day is a good choice for x axis. Instead, we can use quarts(every 3 months). And we can also group them by month and day of week, and see if people asked more questions on specific months or days.\n",
    "\n",
    "#### Converting CreationDate to Quarter, Month and Day of Week"
   ]
  },
  {
   "cell_type": "code",
   "execution_count": 15,
   "id": "106da14c",
   "metadata": {},
   "outputs": [],
   "source": [
    "# Remove the data of current quarter 2022 Q2 because it's incomplete\n",
    "to_date = datetime.strptime(\"03/31/2022\", '%m/%d/%Y')\n",
    "all_questions = all_questions[all_questions[\"CreationDate\"] <= to_date]\n",
    "all_questions[\"Month\"] =  all_questions[\"CreationDate\"].dt.month\n",
    "all_questions[\"DOW\"] = all_questions[\"CreationDate\"].dt.strftime(\"%A\")"
   ]
  },
  {
   "cell_type": "markdown",
   "id": "06483931",
   "metadata": {},
   "source": [
    "Then create a function to convert datetime to quarter."
   ]
  },
  {
   "cell_type": "code",
   "execution_count": 16,
   "id": "d7cf34f2",
   "metadata": {},
   "outputs": [
    {
     "data": {
      "text/html": [
       "<div>\n",
       "<style scoped>\n",
       "    .dataframe tbody tr th:only-of-type {\n",
       "        vertical-align: middle;\n",
       "    }\n",
       "\n",
       "    .dataframe tbody tr th {\n",
       "        vertical-align: top;\n",
       "    }\n",
       "\n",
       "    .dataframe thead th {\n",
       "        text-align: right;\n",
       "    }\n",
       "</style>\n",
       "<table border=\"1\" class=\"dataframe\">\n",
       "  <thead>\n",
       "    <tr style=\"text-align: right;\">\n",
       "      <th></th>\n",
       "      <th>Id</th>\n",
       "      <th>CreationDate</th>\n",
       "      <th>Score</th>\n",
       "      <th>ViewCount</th>\n",
       "      <th>Tags</th>\n",
       "      <th>AnswerCount</th>\n",
       "      <th>FavoriteCount</th>\n",
       "      <th>Month</th>\n",
       "      <th>DOW</th>\n",
       "      <th>Quarter</th>\n",
       "    </tr>\n",
       "  </thead>\n",
       "  <tbody>\n",
       "    <tr>\n",
       "      <th>1016</th>\n",
       "      <td>28922</td>\n",
       "      <td>2018-03-10 17:14:12</td>\n",
       "      <td>0</td>\n",
       "      <td>62</td>\n",
       "      <td>[machine-learning, data-cleaning, preprocessing]</td>\n",
       "      <td>2</td>\n",
       "      <td>0</td>\n",
       "      <td>3</td>\n",
       "      <td>Saturday</td>\n",
       "      <td>18Q1</td>\n",
       "    </tr>\n",
       "    <tr>\n",
       "      <th>28144</th>\n",
       "      <td>25253</td>\n",
       "      <td>2017-11-30 14:08:58</td>\n",
       "      <td>1</td>\n",
       "      <td>257</td>\n",
       "      <td>[machine-learning, classification, text]</td>\n",
       "      <td>1</td>\n",
       "      <td>0</td>\n",
       "      <td>11</td>\n",
       "      <td>Thursday</td>\n",
       "      <td>17Q4</td>\n",
       "    </tr>\n",
       "    <tr>\n",
       "      <th>4764</th>\n",
       "      <td>87033</td>\n",
       "      <td>2020-12-22 20:06:15</td>\n",
       "      <td>1</td>\n",
       "      <td>60</td>\n",
       "      <td>[machine-learning, python, nlp, recommender-sy...</td>\n",
       "      <td>1</td>\n",
       "      <td>0</td>\n",
       "      <td>12</td>\n",
       "      <td>Tuesday</td>\n",
       "      <td>20Q4</td>\n",
       "    </tr>\n",
       "  </tbody>\n",
       "</table>\n",
       "</div>"
      ],
      "text/plain": [
       "          Id        CreationDate  Score  ViewCount  \\\n",
       "1016   28922 2018-03-10 17:14:12      0         62   \n",
       "28144  25253 2017-11-30 14:08:58      1        257   \n",
       "4764   87033 2020-12-22 20:06:15      1         60   \n",
       "\n",
       "                                                    Tags  AnswerCount  \\\n",
       "1016    [machine-learning, data-cleaning, preprocessing]            2   \n",
       "28144           [machine-learning, classification, text]            1   \n",
       "4764   [machine-learning, python, nlp, recommender-sy...            1   \n",
       "\n",
       "       FavoriteCount  Month       DOW Quarter  \n",
       "1016               0      3  Saturday    18Q1  \n",
       "28144              0     11  Thursday    17Q4  \n",
       "4764               0     12   Tuesday    20Q4  "
      ]
     },
     "execution_count": 16,
     "metadata": {},
     "output_type": "execute_result"
    }
   ],
   "source": [
    "def get_quarter(datetime):\n",
    "    year = str(datetime.year)[-2:]\n",
    "    quarter = str(((datetime.month-1) // 3) + 1)\n",
    "    return f\"{year}Q{quarter}\"\n",
    "\n",
    "all_questions[\"Quarter\"] = all_questions[\"CreationDate\"].apply(get_quarter)\n",
    "all_questions.sample(3)"
   ]
  },
  {
   "cell_type": "markdown",
   "id": "37c37071",
   "metadata": {},
   "source": [
    "#### Distinguishing Tag `deep-learning` from Others\n",
    "\n",
    "Then we need to list all unqiue tags and then find out which belongs to `deep-learning`."
   ]
  },
  {
   "cell_type": "code",
   "execution_count": 17,
   "id": "7cba2366",
   "metadata": {},
   "outputs": [
    {
     "name": "stdout",
     "output_type": "stream",
     "text": [
      "['.net', '3d-object-detection', '3d-reconstruction', 'ab-test', 'accuracy', 'activation-function', 'active-learning', 'activity-recognition', 'actor-critic', 'adaboost', 'adversarial-ml', 'agglomerative', 'aggregation', 'ai', 'alex-net', 'algorithms', 'allennlp', 'amazon-ml', 'anaconda', 'ann', 'annotation', 'anomaly', 'anomaly-detection', 'anonymization', 'anova', 'apache-hadoop', 'apache-kafka', 'apache-mahout', 'apache-pig', 'apache-spark', 'api', 'arima', 'association-rules', 'attention-mechanism', 'auc', 'audio-recognition', 'autoencoder', 'automatic-summarization', 'automation', 'automl', 'aws', 'aws-lambda', 'azure-ml', 'backpropagation', 'bag-of-words', 'bagging', 'bahdanau', 'bar-chart', 'bart', 'batch-normalization', 'bayes-error', 'bayesian', 'bayesian-networks', 'bayesian-nonparametric', 'beginner', 'bernoulli', 'bert', 'best-practice', 'bias', 'bigdata', 'binary', 'binary-classification', 'bioinformatics', 'bokeh', 'books', 'boosting', 'bootstraping', 'boruta', 'c', 'c++', 'caffe', 'career', 'caret', 'cart', 'catboost', 'categorical-data', 'categorical-encoding', 'causalimpact', 'cause-and-effect', 'chatbot', 'chi-square-test', 'churn', 'class-imbalance', 'classes', 'classification', 'classifier', 'cloud', 'cloud-computing', 'clustering', 'cnn', 'code', 'coherence', 'colab', 'collinearity', 'column-name', 'community', 'competitions', 'computer-vision', 'concept-drift', 'conda', 'confidence', 'config', 'confusion-matrix', 'consumerweb', 'context-vector', 'contrastive', 'convergence', 'convnet', 'convolution', 'convolutional-neural-network', 'corpus', 'correlation', 'cosine-distance', 'cost-function', 'counts', 'coursera', 'crawling', 'cross-entropy', 'cross-validation', 'cs231n', 'csv', 'cuda', 'custom-layer', 'cyclegan', 'data', 'data-analysis', 'data-augmentation', 'data-cleaning', 'data-drift', 'data-engineering', 'data-formats', 'data-imputation', 'data-indexing-techniques', 'data-leakage', 'data-mining', 'data-product', 'data-quality', 'data-science-model', 'data-stream-mining', 'data-table', 'data-wrangling', 'databases', 'dataframe', 'dataset', 'dbscan', 'decision-trees', 'deep-learning', 'deepmind', 'definitions', 'density-estimation', 'density-plot', 'derivation', 'descriptive-statistics', 'difference', 'dimensionality-reduction', 'dirichlet', 'discounted-reward', 'discriminant-analysis', 'discriminative-models', 'distance', 'distributed', 'distribution', 'doc2vec', 'document-term-matrix', 'document-understanding', 'domain-adaptation', 'dplyr', 'dqn', 'dropout', 'dummy-variables', 'dynamic-programming', 'dynamic-time-warping', 'early-stopping', 'ecdf', 'education', 'efficiency', 'elastic-net', 'elastic-search', 'embeddings', 'encoder', 'encoding', 'ensemble', 'ensemble-learning', 'ensemble-modeling', 'entity-linking', 'epochs', 'error-handling', 'esl', 'estimation', 'estimators', 'ethics', 'etl', 'evaluation', 'evolutionary-algorithms', 'excel', 'expectation-maximization', 'experiments', 'explainable-ai', 'exploratory-factor-analysis', 'f1score', 'facebook', 'fastai', 'faster-rcnn', 'fasttext', 'feature-construction', 'feature-engineering', 'feature-extraction', 'feature-importances', 'feature-interaction', 'feature-map', 'feature-reduction', 'feature-scaling', 'feature-selection', 'features', 'featurization', 'federated-learning', 'few-shot-learning', 'field-aware-factorization-machines', 'finance', 'finetuning', 'finite-precision', 'flask', 'forecast', 'forecasting', 'freebase', 'frequency-encoding', 'functional-api', 'functions', 'fuzzy-classification', 'fuzzy-logic', 'game', 'gan', 'gaussian', 'gaussian-process', 'gbm', 'generalization', 'generative-models', 'genetic', 'genetic-algorithms', 'genetic-programming', 'gensim', 'geospatial', 'ggplot2', 'gini-index', 'glm', 'glorot-initialization', 'gmm', 'gnn', 'goodness-of-fit', 'google', 'google-bigquery', 'google-cloud', 'google-cloud-platform', 'google-data-studio', 'google-prediction-api', 'gpu', 'gradient', 'gradient-boosting-decision-trees', 'gradient-descent', 'grammar-inference', 'graph-neural-network', 'graphical-model', 'graphs', 'graphviz', 'grid-search', 'gridsearchcv', 'groupby', 'gru', 'h2o', 'hardware', 'hashing', 'hashing-trick', 'hashingvectorizer', 'hbase', 'heatmap', 'hierarchical-data-format', 'hinge-loss', 'histogram', 'historgram', 'history', 'hive', 'hog', 'homework', 'hpc', 'huggingface', 'hydra', 'hyperparameter', 'hyperparameter-tuning', 'hypothesis-testing', 'ibm-watson', 'image', 'image-classification', 'image-preprocessing', 'image-recognition', 'image-segmentation', 'image-size', 'imbalance', 'imbalanced-data', 'imbalanced-learn', 'implementation', 'inception', 'inceptionresnetv2', 'indexing', 'inference', 'infographics', 'information-extraction', 'information-retrieval', 'information-theory', 'interpolation', 'interpretation', 'intuition', 'ipython', 'isolation-forest', 'jaccard-coefficient', 'java', 'javascript', 'json', 'julia', 'jupyter', 'k-means', 'k-nn', 'kaggle', 'kendalls-tau-coefficient', 'keras', 'keras-rl', 'kernel', 'knime', 'knowledge-base', 'knowledge-graph', 'labeling', 'labelling', 'labels', 'language-model', 'lasso', 'latent-truth', 'lda', 'lda-classifier', 'learning', 'learning-rate', 'learning-to-rank', 'least-squares-svm', 'library', 'libsvm', 'lightgbm', 'lime', 'linear-algebra', 'linear-models', 'linear-programming', 'linear-regression', 'linearly-separable', 'linux', 'logarithmic', 'logistic', 'logistic-regression', 'loss', 'loss-function', 'lsi', 'lstm', 'machine-learning', 'machine-learning-model', 'machine-translation', 'management', 'manhattan', 'manifold', 'map-reduce', 'market-basket-analysis', 'marketing', 'markov', 'markov-hidden-model', 'markov-process', 'masking', 'mathematics', 'matlab', 'matplotlib', 'matrix', 'matrix-factorisation', 'mcmc', 'mean', 'mean-shift', 'memory', 'meta-learning', 'metadata', 'metaheuristics', 'methodology', 'methods', 'metric', 'mini-batch-gradient-descent', 'missing-data', 'mlflow', 'mlops', 'mlp', 'mnist', 'model-evaluations', 'model-selection', 'momentum', 'mongodb', 'monte-carlo', 'movielens', 'mse', 'multi-instance-learning', 'multi-output', 'multiclass-classification', 'multilabel-classification', 'multitask-learning', 'multivariate-distribution', 'mutual-information', 'mxnet', 'naive-bayes-algorithim', 'naive-bayes-classifier', 'named-entity-recognition', 'natural-gradient-boosting', 'ndcg', 'neo4j', 'nestedcv', 'networkx', 'neural', 'neural-network', 'neural-style-transfer', 'ngboost', 'ngrams', 'nlg', 'nlp', 'nltk', 'noise', 'noisification', 'non-parametric', 'normal', 'normal-equation', 'normalization', 'nosql', 'notation', 'numerical', 'numpy', 'nvidia', 'object-detection', 'object-recognition', 'objective-function', 'ocr', 'octave', 'omegaconf', 'one-class-classification', 'one-hot-encoding', 'one-shot-learning', 'online-learning', 'open-source', 'openai-gpt', 'openai-gym', 'opencv', 'optimization', 'orange', 'orange3', 'outlier', 'overfitting', 'oversampling', 'pac-learning', 'pacf', 'pandas', 'parallel', 'parameter', 'parameter-estimation', 'parsing', 'partial-dependence-plot', 'partial-least-squares', 'pasting', 'pattern-recognition', 'pca', 'pcamixdata', 'pearsons-correlation-coefficient', 'perceptron', 'performance', 'permutation-test', 'perplexity', 'pgm', 'pickle', 'pip', 'pipelines', 'plotly', 'plotting', 'poisson', 'policy-gradients', 'pooling', 'powerbi', 'predict', 'prediction', 'predictive-modeling', 'predictor-importance', 'preprocessing', 'pretraining', 'privacy', 'probabilistic-programming', 'probability', 'probability-calibration', 'processing', 'programming', 'project-planning', 'pruning', 'pvalue', 'pybrain', 'pymc3', 'pyspark', 'python', 'python-2.7', 'python-3.x', 'pytorch', 'pytorch-geometric', 'q-learning', 'question-answering', 'r', 'r-squared', 'random-forest', 'randomized-algorithms', 'ranking', 'rapidminer', 'rasa-nlu', 'rattle', 'rbf', 'rbm', 'real-ml-usecase', 'recommender-system', 'recurrent-neural-network', 'redshift', 'reference-request', 'regex', 'regression', 'regularization', 'reinforcement-learning', 'relational-dbms', 'representation', 'research', 'reshape', 'reward', 'rfe', 'ridge-regression', 'rmse', 'rnn', 'roc', 'rstudio', 'sagemaker', 'sampling', 'sas', 'scala', 'scalability', 'scatter-index', 'scikit-learn', 'scipy', 'score', 'scoring', 'scraping', 'seaborn', 'search', 'search-engine', 'seed', 'self-driving', 'self-study', 'semantic-segmentation', 'semantic-similarity', 'semi-supervised-learning', 'sensors', 'sentiment-analysis', 'sequence', 'sequence-to-sequence', 'sequential-pattern-mining', 'serialisation', 'sgd', 'shap', 'siamese-networks', 'sigmoid', 'similar-documents', 'similarity', 'simulation', 'sliq', 'smote', 'smotenc', 'snorkel', 'social-network-analysis', 'softmax', 'software-development', 'software-recommendation', 'spacy', 'sparse', 'sparsity', 'spatial-transformer', 'spearmans-rank-correlation', 'spectral-clustering', 'speech-to-text', 'sports', 'sprint', 'spss', 'spyder', 'sql', 'stacked-lstm', 'stacking', 'stanford-nlp', 'stata', 'state-of-the-art', 'statistics', 'statsmodels', 'stemming', 'structural-equation-modelling', 'structured-data', 'supervised-learning', 'survival-analysis', 'svm', 'svr', 'tableau', 'target-encoding', 'tensorboard', 'tensorflow', 'tensorflow-serving', 'terminology', 'tesseract', 'test', 'text', 'text-classification', 'text-filter', 'text-generation', 'text-mining', 'text-processing', 'tfidf', 'tflearn', 'theano', 'theory', 'time', 'time-complexity', 'time-series', 'tokenization', 'tools', 'topic-model', 'torch', 'torchvision', 'tpu', 'training', 'tranformation', 'transfer-learning', 'transformation', 'transformer', 'tsne', 'twitter', 'uncertainty', 'universal-approximation-theorem', 'unsupervised-learning', 'usecase', 'vae', 'validation', 'variance', 'vc-theory', 'vector-space-models', 'version-control', 'vgg16', 'visualization', 'vowpal-wabbit', 'wasserstein', 'web-scraping', 'weight-initialization', 'weighted-data', 'weka', 'wikipedia', 'windows', 'wolfram-language', 'word', 'word-embeddings', 'word2vec', 'xgboost', 'yolo']\n"
     ]
    }
   ],
   "source": [
    "tag_list = []\n",
    "\n",
    "for tags in all_questions[\"Tags\"]:\n",
    "    for tag in tags:\n",
    "        if tag not in tag_list:\n",
    "            tag_list.append(tag)\n",
    "print(sorted(tag_list))           "
   ]
  },
  {
   "cell_type": "markdown",
   "id": "ede22910",
   "metadata": {},
   "source": [
    "Here is the list of tags belong to `deep-learning`:\n",
    "\n",
    "* `cnn`: Convolutional Neural Networks\n",
    "* `lstm`: Long Short Term Memory Networks\n",
    "* `rnn`: Recurrent Neural Networks\n",
    "* `gan`: Generative Adversarial Networks \n",
    "* `mlp`: Multilayer Perceptrons\n",
    "* `rbm`: Restricted Boltzmann Machines\n",
    "* `autoencoder`: a type of neural network\n",
    "* `scikit-learn`: a machine learning(and deep-learning) library for the Python programming language\n",
    "* `tensorflow`: an open-source library developed by Google primarily for deep learning applications\n",
    "* `keras`: a deep learning API written in Python\n",
    "* `neural-network`: a subset of machine learning and are at the heart of deep learning algorithms\n",
    "* `deep-learning`\n",
    "\n",
    "Next, let's create a function that assigns 1 to deep learning questions and 0 otherwise."
   ]
  },
  {
   "cell_type": "code",
   "execution_count": 18,
   "id": "50453fe0",
   "metadata": {},
   "outputs": [
    {
     "data": {
      "text/html": [
       "<div>\n",
       "<style scoped>\n",
       "    .dataframe tbody tr th:only-of-type {\n",
       "        vertical-align: middle;\n",
       "    }\n",
       "\n",
       "    .dataframe tbody tr th {\n",
       "        vertical-align: top;\n",
       "    }\n",
       "\n",
       "    .dataframe thead th {\n",
       "        text-align: right;\n",
       "    }\n",
       "</style>\n",
       "<table border=\"1\" class=\"dataframe\">\n",
       "  <thead>\n",
       "    <tr style=\"text-align: right;\">\n",
       "      <th></th>\n",
       "      <th>Id</th>\n",
       "      <th>CreationDate</th>\n",
       "      <th>Score</th>\n",
       "      <th>ViewCount</th>\n",
       "      <th>Tags</th>\n",
       "      <th>AnswerCount</th>\n",
       "      <th>FavoriteCount</th>\n",
       "      <th>Month</th>\n",
       "      <th>DOW</th>\n",
       "      <th>Quarter</th>\n",
       "      <th>DeepLearning</th>\n",
       "    </tr>\n",
       "  </thead>\n",
       "  <tbody>\n",
       "    <tr>\n",
       "      <th>2690</th>\n",
       "      <td>85331</td>\n",
       "      <td>2020-11-13 03:40:38</td>\n",
       "      <td>1</td>\n",
       "      <td>15</td>\n",
       "      <td>[machine-learning, data, data-science-model, m...</td>\n",
       "      <td>0</td>\n",
       "      <td>0</td>\n",
       "      <td>11</td>\n",
       "      <td>Friday</td>\n",
       "      <td>20Q4</td>\n",
       "      <td>0</td>\n",
       "    </tr>\n",
       "    <tr>\n",
       "      <th>28816</th>\n",
       "      <td>79799</td>\n",
       "      <td>2020-08-05 06:09:15</td>\n",
       "      <td>0</td>\n",
       "      <td>87</td>\n",
       "      <td>[python, deep-learning, scikit-learn, statisti...</td>\n",
       "      <td>0</td>\n",
       "      <td>0</td>\n",
       "      <td>8</td>\n",
       "      <td>Wednesday</td>\n",
       "      <td>20Q3</td>\n",
       "      <td>1</td>\n",
       "    </tr>\n",
       "    <tr>\n",
       "      <th>15271</th>\n",
       "      <td>14834</td>\n",
       "      <td>2016-10-30 19:28:26</td>\n",
       "      <td>0</td>\n",
       "      <td>506</td>\n",
       "      <td>[algorithms, optimization]</td>\n",
       "      <td>1</td>\n",
       "      <td>1</td>\n",
       "      <td>10</td>\n",
       "      <td>Sunday</td>\n",
       "      <td>16Q4</td>\n",
       "      <td>0</td>\n",
       "    </tr>\n",
       "  </tbody>\n",
       "</table>\n",
       "</div>"
      ],
      "text/plain": [
       "          Id        CreationDate  Score  ViewCount  \\\n",
       "2690   85331 2020-11-13 03:40:38      1         15   \n",
       "28816  79799 2020-08-05 06:09:15      0         87   \n",
       "15271  14834 2016-10-30 19:28:26      0        506   \n",
       "\n",
       "                                                    Tags  AnswerCount  \\\n",
       "2690   [machine-learning, data, data-science-model, m...            0   \n",
       "28816  [python, deep-learning, scikit-learn, statisti...            0   \n",
       "15271                         [algorithms, optimization]            1   \n",
       "\n",
       "       FavoriteCount  Month        DOW Quarter  DeepLearning  \n",
       "2690               0     11     Friday    20Q4             0  \n",
       "28816              0      8  Wednesday    20Q3             1  \n",
       "15271              1     10     Sunday    16Q4             0  "
      ]
     },
     "execution_count": 18,
     "metadata": {},
     "output_type": "execute_result"
    }
   ],
   "source": [
    "deep_learning_tags = [\n",
    "    'cnn',\n",
    "    'lstm',\n",
    "    'rnn',\n",
    "    'gan',\n",
    "    'mlp',\n",
    "    'rbm',\n",
    "    'autoencoder',\n",
    "    'scikit-learn',\n",
    "    'tensorflow',\n",
    "    'keras',\n",
    "    'neural-network',\n",
    "    'deep-learning',\n",
    "    ]\n",
    "def belongs_deep_learning(tags):\n",
    "    for tag in tags:\n",
    "        if tag in deep_learning_tags:\n",
    "            return 1\n",
    "    return 0\n",
    "\n",
    "# Add a new column `DeepLearning`\n",
    "all_questions[\"DeepLearning\"] = all_questions[\"Tags\"].apply(belongs_deep_learning)\n",
    "\n",
    "all_questions.sample(3)"
   ]
  },
  {
   "cell_type": "markdown",
   "id": "c4b4ea6d",
   "metadata": {},
   "source": [
    "#### Tracking Its Popularity Quarterly\n",
    "\n",
    "Let's create a summarized dataframe grouped by quarter."
   ]
  },
  {
   "cell_type": "code",
   "execution_count": 19,
   "id": "14e4347f",
   "metadata": {},
   "outputs": [
    {
     "data": {
      "text/html": [
       "<div>\n",
       "<style scoped>\n",
       "    .dataframe tbody tr th:only-of-type {\n",
       "        vertical-align: middle;\n",
       "    }\n",
       "\n",
       "    .dataframe tbody tr th {\n",
       "        vertical-align: top;\n",
       "    }\n",
       "\n",
       "    .dataframe thead th {\n",
       "        text-align: right;\n",
       "    }\n",
       "</style>\n",
       "<table border=\"1\" class=\"dataframe\">\n",
       "  <thead>\n",
       "    <tr style=\"text-align: right;\">\n",
       "      <th></th>\n",
       "      <th>Quarter</th>\n",
       "      <th>TotalQuestions</th>\n",
       "      <th>DLQuestions</th>\n",
       "      <th>NonDLQuestions</th>\n",
       "      <th>DLQuestionPercentage</th>\n",
       "    </tr>\n",
       "  </thead>\n",
       "  <tbody>\n",
       "    <tr>\n",
       "      <th>27</th>\n",
       "      <td>21Q1</td>\n",
       "      <td>1289</td>\n",
       "      <td>486</td>\n",
       "      <td>803</td>\n",
       "      <td>37.70</td>\n",
       "    </tr>\n",
       "    <tr>\n",
       "      <th>28</th>\n",
       "      <td>21Q2</td>\n",
       "      <td>1677</td>\n",
       "      <td>646</td>\n",
       "      <td>1031</td>\n",
       "      <td>38.52</td>\n",
       "    </tr>\n",
       "    <tr>\n",
       "      <th>29</th>\n",
       "      <td>21Q3</td>\n",
       "      <td>1593</td>\n",
       "      <td>597</td>\n",
       "      <td>996</td>\n",
       "      <td>37.48</td>\n",
       "    </tr>\n",
       "    <tr>\n",
       "      <th>30</th>\n",
       "      <td>21Q4</td>\n",
       "      <td>1473</td>\n",
       "      <td>474</td>\n",
       "      <td>999</td>\n",
       "      <td>32.18</td>\n",
       "    </tr>\n",
       "    <tr>\n",
       "      <th>31</th>\n",
       "      <td>22Q1</td>\n",
       "      <td>1448</td>\n",
       "      <td>517</td>\n",
       "      <td>931</td>\n",
       "      <td>35.70</td>\n",
       "    </tr>\n",
       "  </tbody>\n",
       "</table>\n",
       "</div>"
      ],
      "text/plain": [
       "   Quarter  TotalQuestions  DLQuestions  NonDLQuestions  DLQuestionPercentage\n",
       "27    21Q1            1289          486             803                 37.70\n",
       "28    21Q2            1677          646            1031                 38.52\n",
       "29    21Q3            1593          597             996                 37.48\n",
       "30    21Q4            1473          474             999                 32.18\n",
       "31    22Q1            1448          517             931                 35.70"
      ]
     },
     "execution_count": 19,
     "metadata": {},
     "output_type": "execute_result"
    }
   ],
   "source": [
    "q_grouped = all_questions.groupby('Quarter')\n",
    "dl_grouped = q_grouped[\"DeepLearning\"]\n",
    "dl_df = dl_grouped.agg([\"size\", \"sum\"])\n",
    "dl_df.columns = [\"TotalQuestions\", \"DLQuestions\"]\n",
    "dl_df[\"NonDLQuestions\"] = dl_df[\"TotalQuestions\"] - dl_df[\"DLQuestions\"]\n",
    "dl_df[\"DLQuestionPercentage\"] = round(dl_df[\"DLQuestions\"] / dl_df[\"TotalQuestions\"] * 100, 2)\n",
    "dl_df.reset_index(inplace=True)\n",
    "dl_df.tail()"
   ]
  },
  {
   "cell_type": "markdown",
   "id": "467d14cf",
   "metadata": {},
   "source": [
    "Visualize it by stacked bar chart and line chart."
   ]
  },
  {
   "cell_type": "code",
   "execution_count": 20,
   "id": "639423dc",
   "metadata": {},
   "outputs": [
    {
     "data": {
      "image/png": "[encoded data removed]",
      "text/plain": [
       "<Figure size 1440x576 with 2 Axes>"
      ]
     },
     "metadata": {
      "needs_background": "light"
     },
     "output_type": "display_data"
    }
   ],
   "source": [
    "# plot bars in stack manner\n",
    "fig, axes = plt.subplots(nrows=1, ncols=2)\n",
    "for i in range(0,2):\n",
    "    for pos in ['right', 'top']: \n",
    "        axes[i].spines[pos].set_visible(False)\n",
    "fig.set_size_inches((20, 8))\n",
    "\n",
    "dl_df[['Quarter', 'DLQuestions', 'NonDLQuestions']].plot(\n",
    "    x='Quarter',\n",
    "    kind='bar',\n",
    "    stacked=True,\n",
    "    ax=axes[0],\n",
    "    rot=45,\n",
    "    color=['royalblue', 'lightskyblue'],\n",
    "    title='Quartly Frequency of Tag Deep Learning',\n",
    "    )\n",
    "axes[0].set_ylabel('Occurrences of Tags')\n",
    "\n",
    "ax2 = dl_df.plot(\n",
    "    x='Quarter',\n",
    "    y='DLQuestionPercentage',\n",
    "    ax=axes[1],\n",
    "    rot=45,\n",
    "    kind='line',\n",
    "    color='darkblue',\n",
    "    title='Quartly Percentage of Tag Deep Learning ',\n",
    "    )\n",
    "axes[1].set_ylabel('Percentage(%)')\n",
    "axes[1].get_legend().remove()\n"
   ]
  },
  {
   "cell_type": "markdown",
   "id": "8760d89d",
   "metadata": {},
   "source": [
    "As we can see from above plots, the percentage of deep learning questions increased rapidly since the start of Data Science Stack Exchange, and begins to flatten out in recent 2 years. It dropped a little in 2021 Q4 but it's back up in next quarter and still keep high proportion at around 40%.\n",
    "\n",
    "We insist our previous conclusion, i.e., we suggest the company Datamagician create content focus on **Deep Learning**."
   ]
  },
  {
   "cell_type": "markdown",
   "id": "228506ec",
   "metadata": {},
   "source": [
    "<a id=\"q3\"></a>\n",
    "### Question 3: When are these questions asked the most?\n",
    "\n",
    "What if Datamagician wants to offer promotions about their online deep learning courses, is there any month or day of week that attracts more people? We can use the popularity as the proxy, because the more people ask questions, the more interested they are, the more likely they are to choose related courses. We can answer that question by tracking the popularity by month and day of week.\n",
    "\n",
    "#### Tracking its popularity by month\n",
    "\n",
    "Let's create a summarized dataframe grouped by month."
   ]
  },
  {
   "cell_type": "code",
   "execution_count": 21,
   "id": "1c749856",
   "metadata": {},
   "outputs": [
    {
     "data": {
      "text/html": [
       "<div>\n",
       "<style scoped>\n",
       "    .dataframe tbody tr th:only-of-type {\n",
       "        vertical-align: middle;\n",
       "    }\n",
       "\n",
       "    .dataframe tbody tr th {\n",
       "        vertical-align: top;\n",
       "    }\n",
       "\n",
       "    .dataframe thead th {\n",
       "        text-align: right;\n",
       "    }\n",
       "</style>\n",
       "<table border=\"1\" class=\"dataframe\">\n",
       "  <thead>\n",
       "    <tr style=\"text-align: right;\">\n",
       "      <th></th>\n",
       "      <th>TotalQuestions</th>\n",
       "      <th>DLQuestions</th>\n",
       "      <th>DLQuestionPercentage</th>\n",
       "    </tr>\n",
       "    <tr>\n",
       "      <th>Month</th>\n",
       "      <th></th>\n",
       "      <th></th>\n",
       "      <th></th>\n",
       "    </tr>\n",
       "  </thead>\n",
       "  <tbody>\n",
       "    <tr>\n",
       "      <th>1</th>\n",
       "      <td>2937</td>\n",
       "      <td>1112</td>\n",
       "      <td>37.86</td>\n",
       "    </tr>\n",
       "    <tr>\n",
       "      <th>2</th>\n",
       "      <td>2815</td>\n",
       "      <td>1085</td>\n",
       "      <td>38.54</td>\n",
       "    </tr>\n",
       "    <tr>\n",
       "      <th>3</th>\n",
       "      <td>3081</td>\n",
       "      <td>1135</td>\n",
       "      <td>36.84</td>\n",
       "    </tr>\n",
       "    <tr>\n",
       "      <th>4</th>\n",
       "      <td>2502</td>\n",
       "      <td>948</td>\n",
       "      <td>37.89</td>\n",
       "    </tr>\n",
       "    <tr>\n",
       "      <th>5</th>\n",
       "      <td>2930</td>\n",
       "      <td>1096</td>\n",
       "      <td>37.41</td>\n",
       "    </tr>\n",
       "    <tr>\n",
       "      <th>6</th>\n",
       "      <td>2755</td>\n",
       "      <td>932</td>\n",
       "      <td>33.83</td>\n",
       "    </tr>\n",
       "    <tr>\n",
       "      <th>7</th>\n",
       "      <td>2846</td>\n",
       "      <td>1077</td>\n",
       "      <td>37.84</td>\n",
       "    </tr>\n",
       "    <tr>\n",
       "      <th>8</th>\n",
       "      <td>2751</td>\n",
       "      <td>1052</td>\n",
       "      <td>38.24</td>\n",
       "    </tr>\n",
       "    <tr>\n",
       "      <th>9</th>\n",
       "      <td>2402</td>\n",
       "      <td>877</td>\n",
       "      <td>36.51</td>\n",
       "    </tr>\n",
       "    <tr>\n",
       "      <th>10</th>\n",
       "      <td>2372</td>\n",
       "      <td>851</td>\n",
       "      <td>35.88</td>\n",
       "    </tr>\n",
       "    <tr>\n",
       "      <th>11</th>\n",
       "      <td>2536</td>\n",
       "      <td>894</td>\n",
       "      <td>35.25</td>\n",
       "    </tr>\n",
       "    <tr>\n",
       "      <th>12</th>\n",
       "      <td>2535</td>\n",
       "      <td>982</td>\n",
       "      <td>38.74</td>\n",
       "    </tr>\n",
       "  </tbody>\n",
       "</table>\n",
       "</div>"
      ],
      "text/plain": [
       "       TotalQuestions  DLQuestions  DLQuestionPercentage\n",
       "Month                                                   \n",
       "1                2937         1112                 37.86\n",
       "2                2815         1085                 38.54\n",
       "3                3081         1135                 36.84\n",
       "4                2502          948                 37.89\n",
       "5                2930         1096                 37.41\n",
       "6                2755          932                 33.83\n",
       "7                2846         1077                 37.84\n",
       "8                2751         1052                 38.24\n",
       "9                2402          877                 36.51\n",
       "10               2372          851                 35.88\n",
       "11               2536          894                 35.25\n",
       "12               2535          982                 38.74"
      ]
     },
     "execution_count": 21,
     "metadata": {},
     "output_type": "execute_result"
    }
   ],
   "source": [
    "q_grouped_month = all_questions.groupby('Month')\n",
    "dl_grouped_month = q_grouped_month[\"DeepLearning\"]\n",
    "dl_df_month = dl_grouped_month.agg([\"size\", \"sum\"])\n",
    "dl_df_month.columns = [\"TotalQuestions\", \"DLQuestions\"]\n",
    "dl_df_month[\"DLQuestionPercentage\"] = round(dl_df_month[\"DLQuestions\"] / dl_df_month[\"TotalQuestions\"] * 100, 2)\n",
    "dl_df_month"
   ]
  },
  {
   "cell_type": "markdown",
   "id": "7c548fa5",
   "metadata": {},
   "source": [
    "#### Tracking its popularity by day of week"
   ]
  },
  {
   "cell_type": "code",
   "execution_count": 22,
   "id": "720fffa4",
   "metadata": {},
   "outputs": [
    {
     "data": {
      "text/html": [
       "<div>\n",
       "<style scoped>\n",
       "    .dataframe tbody tr th:only-of-type {\n",
       "        vertical-align: middle;\n",
       "    }\n",
       "\n",
       "    .dataframe tbody tr th {\n",
       "        vertical-align: top;\n",
       "    }\n",
       "\n",
       "    .dataframe thead th {\n",
       "        text-align: right;\n",
       "    }\n",
       "</style>\n",
       "<table border=\"1\" class=\"dataframe\">\n",
       "  <thead>\n",
       "    <tr style=\"text-align: right;\">\n",
       "      <th></th>\n",
       "      <th>TotalQuestions</th>\n",
       "      <th>DLQuestions</th>\n",
       "      <th>DLQuestionPercentage</th>\n",
       "    </tr>\n",
       "    <tr>\n",
       "      <th>DOW</th>\n",
       "      <th></th>\n",
       "      <th></th>\n",
       "      <th></th>\n",
       "    </tr>\n",
       "  </thead>\n",
       "  <tbody>\n",
       "    <tr>\n",
       "      <th>Monday</th>\n",
       "      <td>5093</td>\n",
       "      <td>1903</td>\n",
       "      <td>37.37</td>\n",
       "    </tr>\n",
       "    <tr>\n",
       "      <th>Tuesday</th>\n",
       "      <td>5236</td>\n",
       "      <td>1917</td>\n",
       "      <td>36.61</td>\n",
       "    </tr>\n",
       "    <tr>\n",
       "      <th>Wednesday</th>\n",
       "      <td>5387</td>\n",
       "      <td>1974</td>\n",
       "      <td>36.64</td>\n",
       "    </tr>\n",
       "    <tr>\n",
       "      <th>Thursday</th>\n",
       "      <td>5271</td>\n",
       "      <td>1936</td>\n",
       "      <td>36.73</td>\n",
       "    </tr>\n",
       "    <tr>\n",
       "      <th>Friday</th>\n",
       "      <td>4788</td>\n",
       "      <td>1763</td>\n",
       "      <td>36.82</td>\n",
       "    </tr>\n",
       "    <tr>\n",
       "      <th>Saturday</th>\n",
       "      <td>3211</td>\n",
       "      <td>1238</td>\n",
       "      <td>38.55</td>\n",
       "    </tr>\n",
       "    <tr>\n",
       "      <th>Sunday</th>\n",
       "      <td>3476</td>\n",
       "      <td>1310</td>\n",
       "      <td>37.69</td>\n",
       "    </tr>\n",
       "  </tbody>\n",
       "</table>\n",
       "</div>"
      ],
      "text/plain": [
       "           TotalQuestions  DLQuestions  DLQuestionPercentage\n",
       "DOW                                                         \n",
       "Monday               5093         1903                 37.37\n",
       "Tuesday              5236         1917                 36.61\n",
       "Wednesday            5387         1974                 36.64\n",
       "Thursday             5271         1936                 36.73\n",
       "Friday               4788         1763                 36.82\n",
       "Saturday             3211         1238                 38.55\n",
       "Sunday               3476         1310                 37.69"
      ]
     },
     "execution_count": 22,
     "metadata": {},
     "output_type": "execute_result"
    }
   ],
   "source": [
    "q_grouped_dow = all_questions.groupby(\"DOW\")\n",
    "dl_grouped_dow = q_grouped_dow[\"DeepLearning\"]\n",
    "dl_df_dow = dl_grouped_dow.agg([\"size\", \"sum\"])\n",
    "dl_df_dow.columns = [\"TotalQuestions\", \"DLQuestions\"]\n",
    "dl_df_dow[\"DLQuestionPercentage\"] = round(dl_df_dow[\"DLQuestions\"] / dl_df_dow[\"TotalQuestions\"] * 100, 2)\n",
    "days = [\"Monday\", \"Tuesday\", \"Wednesday\", \"Thursday\", \"Friday\", \"Saturday\", \"Sunday\"]\n",
    "dl_df_dow = dl_df_dow.reindex(days)\n",
    "dl_df_dow"
   ]
  },
  {
   "cell_type": "code",
   "execution_count": 29,
   "id": "96e9b34d",
   "metadata": {
    "scrolled": true
   },
   "outputs": [
    {
     "data": {
      "image/png": "[encoded data removed]",
      "text/plain": [
       "<Figure size 1152x360 with 2 Axes>"
      ]
     },
     "metadata": {
      "needs_background": "light"
     },
     "output_type": "display_data"
    }
   ],
   "source": [
    "fig, axes = plt.subplots(nrows=1, ncols=2)\n",
    "for i in range(0,2):\n",
    "    for pos in ['right', 'top']: \n",
    "        axes[i].spines[pos].set_visible(False)\n",
    "fig.set_size_inches((16, 5))\n",
    "\n",
    "# by month\n",
    "sns.barplot(x=dl_df_month.index, y=\"DLQuestionPercentage\", data=dl_df_month, ax=axes[0], color=\"yellowgreen\")\n",
    "sns.pointplot(x=dl_df_month.index, y='DLQuestionPercentage', data=dl_df_month, ax=axes[0], color=\"black\", scale=0.7)\n",
    "\n",
    "# by day of week\n",
    "sns.barplot(x=dl_df_dow.index, y=\"DLQuestionPercentage\", data=dl_df_dow, ax=axes[1], color=\"orchid\")\n",
    "sns.pointplot(x=dl_df_dow.index, y='DLQuestionPercentage', data=dl_df_dow, ax=axes[1], color=\"black\", scale=0.7)\n",
    "\n",
    "plt.show()"
   ]
  },
  {
   "cell_type": "markdown",
   "id": "4dd3081e",
   "metadata": {},
   "source": [
    "#### Heatmap of Popularity"
   ]
  },
  {
   "cell_type": "code",
   "execution_count": 24,
   "id": "b6e4353d",
   "metadata": {
    "scrolled": true
   },
   "outputs": [
    {
     "data": {
      "image/png": "[encoded data removed]",
      "text/plain": [
       "<Figure size 720x432 with 1 Axes>"
      ]
     },
     "metadata": {
      "needs_background": "light"
     },
     "output_type": "display_data"
    }
   ],
   "source": [
    "# group by day of week and month\n",
    "dl_df_hm = all_questions.groupby([\"DOW\", \"Month\"])\n",
    "dl_df_hm = dl_df_hm[\"DeepLearning\"].agg([\"size\", \"sum\"])\n",
    "dl_df_hm.columns = [\"TotalQuestions\", \"DLQuestions\"]\n",
    "dl_df_hm[\"DLQuestionPercentage\"] = round(dl_df_hm[\"DLQuestions\"] / dl_df_hm[\"TotalQuestions\"] * 100, 2)\n",
    "dl_df_hm = dl_df_hm.reset_index()\n",
    "\n",
    "# create the pivot table\n",
    "dl_df_pivot = dl_df_hm.pivot(\"DOW\", \"Month\", \"DLQuestionPercentage\")\n",
    "dl_df_pivot = dl_df_pivot.reindex(index = [\"Monday\",\"Tuesday\",\"Wednesday\",\"Thursday\",\"Friday\",\"Saturday\",\"Sunday\"])\n",
    "\n",
    "# create the heatmap\n",
    "plt.figure(figsize=(10, 6))\n",
    "sns.heatmap(dl_df_pivot, annot=True, cmap=\"YlGnBu\", cbar=False).set(title=\"Percentage of Tag Deep Learning\")\n",
    "plt.yticks(rotation=0)\n",
    "plt.show()"
   ]
  },
  {
   "cell_type": "markdown",
   "id": "209fd5d7",
   "metadata": {},
   "source": [
    "According to above plots, the percentage of deep learning questions are higher in February, August and December. As for day of week, Saturday has the highest percentage of deep learning questions, followed by Sunday. More specifically, the highest share happen on Sunday of July and December."
   ]
  },
  {
   "cell_type": "markdown",
   "id": "3bcea4fb",
   "metadata": {},
   "source": [
    "<a id=\"q4\"></a>\n",
    "### Question 4: Is R potentially popular?"
   ]
  },
  {
   "cell_type": "markdown",
   "id": "9e711069",
   "metadata": {},
   "source": [
    "We've known the most popular programming language in Data Science Stack Exchange is `python`, but we also see `r` in Top 30 Most Used Tags and Most Favorited Tags. Some [articles](https://www.springboard.com/blog/data-science/best-language-for-machine-learning/) claim that R is one of the best languages for machine learning.\n",
    "Should we also recommend R?\n",
    "\n",
    "First of all, we need to figure out what tags come together with R. Here is the dataframe shows the relationships between r and other tags."
   ]
  },
  {
   "cell_type": "code",
   "execution_count": 25,
   "id": "ddac6a15",
   "metadata": {},
   "outputs": [
    {
     "data": {
      "text/plain": [
       "machine-learning        48\n",
       "deep-learning           19\n",
       "python                  16\n",
       "statistics              16\n",
       "time-series             15\n",
       "                        ..\n",
       "distance                 1\n",
       "image                    1\n",
       "graph-neural-network     1\n",
       "topic-model              1\n",
       "caret                    1\n",
       "Name: r, Length: 148, dtype: int64"
      ]
     },
     "execution_count": 25,
     "metadata": {},
     "output_type": "execute_result"
    }
   ],
   "source": [
    "# all tags in stackexchange_ds_qs_2021_2205.csv\n",
    "tag_list_20_21 = list(tag_count.index)\n",
    "\n",
    "for tags in questions[\"Tags\"]:\n",
    "    for tag in tags:\n",
    "        if tag not in tag_list_20_21:\n",
    "            tag_list_20_21.append(tag)\n",
    "\n",
    "# the dataframe contains all tags\n",
    "tags_relationships = pd.DataFrame(index=tag_list_20_21, columns=tag_list_20_21)\n",
    "tags_relationships.fillna(0, inplace=True)\n",
    "\n",
    "for tags in questions[\"Tags\"]:\n",
    "    tags_relationships.loc[tags, tags] += 1\n",
    "\n",
    "# we only care about the relationships between r and others\n",
    "tags_relationships = tags_relationships[\"r\"]\n",
    "tags_relationships.drop(index='r', inplace=True)\n",
    "\n",
    "# 0 means no relationship, remove them\n",
    "tags_relationships = tags_relationships[tags_relationships > 0]\n",
    "\n",
    "# calculate the sum of all deep-learning related tags\n",
    "sum_count = 0\n",
    "for tag in deep_learning_tags:\n",
    "    if tag in tags_relationships.index:\n",
    "        sum_count += tags_relationships[tag]\n",
    "tags_relationships[\"deep-learning\"] = sum_count\n",
    "\n",
    "tags_relationships.sort_values(ascending=False)"
   ]
  },
  {
   "cell_type": "markdown",
   "id": "11d125fc",
   "metadata": {},
   "source": [
    "`r` was most used together with `machine-learning`, followed by `deep-learning`, but seems the count 48 and 19 are not convincing enough. Is it possible that the popularity of `r` is rising even though r questions are fewer than python? Let's investigate that question step by step.\n",
    "\n",
    "#### Group by quarter"
   ]
  },
  {
   "cell_type": "code",
   "execution_count": 26,
   "id": "b5db8124",
   "metadata": {},
   "outputs": [
    {
     "data": {
      "text/html": [
       "<div>\n",
       "<style scoped>\n",
       "    .dataframe tbody tr th:only-of-type {\n",
       "        vertical-align: middle;\n",
       "    }\n",
       "\n",
       "    .dataframe tbody tr th {\n",
       "        vertical-align: top;\n",
       "    }\n",
       "\n",
       "    .dataframe thead th {\n",
       "        text-align: right;\n",
       "    }\n",
       "</style>\n",
       "<table border=\"1\" class=\"dataframe\">\n",
       "  <thead>\n",
       "    <tr style=\"text-align: right;\">\n",
       "      <th></th>\n",
       "      <th>Quarter</th>\n",
       "      <th>TotalQuestions</th>\n",
       "      <th>RQuestions</th>\n",
       "      <th>PythonQuestions</th>\n",
       "      <th>RPercentage</th>\n",
       "      <th>PythonPercentage</th>\n",
       "    </tr>\n",
       "  </thead>\n",
       "  <tbody>\n",
       "    <tr>\n",
       "      <th>0</th>\n",
       "      <td>14Q2</td>\n",
       "      <td>157</td>\n",
       "      <td>10</td>\n",
       "      <td>12</td>\n",
       "      <td>6.37</td>\n",
       "      <td>7.64</td>\n",
       "    </tr>\n",
       "    <tr>\n",
       "      <th>1</th>\n",
       "      <td>14Q3</td>\n",
       "      <td>188</td>\n",
       "      <td>22</td>\n",
       "      <td>14</td>\n",
       "      <td>11.70</td>\n",
       "      <td>7.45</td>\n",
       "    </tr>\n",
       "    <tr>\n",
       "      <th>2</th>\n",
       "      <td>14Q4</td>\n",
       "      <td>214</td>\n",
       "      <td>22</td>\n",
       "      <td>17</td>\n",
       "      <td>10.28</td>\n",
       "      <td>7.94</td>\n",
       "    </tr>\n",
       "    <tr>\n",
       "      <th>3</th>\n",
       "      <td>15Q1</td>\n",
       "      <td>188</td>\n",
       "      <td>24</td>\n",
       "      <td>15</td>\n",
       "      <td>12.77</td>\n",
       "      <td>7.98</td>\n",
       "    </tr>\n",
       "    <tr>\n",
       "      <th>4</th>\n",
       "      <td>15Q2</td>\n",
       "      <td>284</td>\n",
       "      <td>37</td>\n",
       "      <td>36</td>\n",
       "      <td>13.03</td>\n",
       "      <td>12.68</td>\n",
       "    </tr>\n",
       "  </tbody>\n",
       "</table>\n",
       "</div>"
      ],
      "text/plain": [
       "  Quarter  TotalQuestions  RQuestions  PythonQuestions  RPercentage  \\\n",
       "0    14Q2             157          10               12         6.37   \n",
       "1    14Q3             188          22               14        11.70   \n",
       "2    14Q4             214          22               17        10.28   \n",
       "3    15Q1             188          24               15        12.77   \n",
       "4    15Q2             284          37               36        13.03   \n",
       "\n",
       "   PythonPercentage  \n",
       "0              7.64  \n",
       "1              7.45  \n",
       "2              7.94  \n",
       "3              7.98  \n",
       "4             12.68  "
      ]
     },
     "execution_count": 26,
     "metadata": {},
     "output_type": "execute_result"
    }
   ],
   "source": [
    "# check if the tags contain `r`\n",
    "def belongs_r(tags):\n",
    "    for tag in tags:\n",
    "        if tag == \"r\":\n",
    "            return 1\n",
    "    return 0\n",
    "\n",
    "# check if the tags contain `python`\n",
    "def belongs_python(tags):\n",
    "    for tag in tags:\n",
    "        if tag == \"python\":\n",
    "            return 1\n",
    "    return 0\n",
    "\n",
    "all_questions[\"RQuestions\"] = all_questions[\"Tags\"].apply(belongs_r)\n",
    "all_questions[\"PythonQuestions\"] = all_questions[\"Tags\"].apply(belongs_python)\n",
    "\n",
    "q_grouped = all_questions.groupby('Quarter')\n",
    "r_grouped = q_grouped[[\"RQuestions\", \"PythonQuestions\"]]\n",
    "r_df = r_grouped.agg([\"size\", \"sum\"])\n",
    "r_df.columns = [\"TotalQuestions\", \"RQuestions\", \"TotalQuestions2\", \"PythonQuestions\"]\n",
    "r_df.drop(columns=[\"TotalQuestions2\"], inplace=True)\n",
    "r_df[\"RPercentage\"] = round(r_df[\"RQuestions\"] / r_df[\"TotalQuestions\"] * 100, 2)\n",
    "r_df[\"PythonPercentage\"] = round(r_df[\"PythonQuestions\"] / r_df[\"TotalQuestions\"] * 100, 2)\n",
    "r_df.reset_index(inplace=True)\n",
    "r_df.head()"
   ]
  },
  {
   "cell_type": "markdown",
   "id": "8b943dc1",
   "metadata": {},
   "source": [
    "#### Data visualization"
   ]
  },
  {
   "cell_type": "code",
   "execution_count": 27,
   "id": "f559cb74",
   "metadata": {},
   "outputs": [
    {
     "data": {
      "image/png": "[encoded data removed]",
      "text/plain": [
       "<Figure size 1008x576 with 2 Axes>"
      ]
     },
     "metadata": {
      "needs_background": "light"
     },
     "output_type": "display_data"
    }
   ],
   "source": [
    "ax1 = r_df.plot(\n",
    "    x='Quarter',\n",
    "    y='RPercentage',\n",
    "    kind='line',\n",
    "    marker='o',\n",
    "    color='darkorange',\n",
    "    figsize=(14, 8)\n",
    "    )\n",
    "\n",
    "ax2 = r_df.plot(\n",
    "    x='Quarter',\n",
    "    y='PythonPercentage',\n",
    "    kind='line',\n",
    "    marker='o',\n",
    "    color='b',\n",
    "    ax=ax1,\n",
    "    secondary_y=True,\n",
    "    rot=45\n",
    "    )\n",
    "\n",
    "ax1.set_ylim(0, 25)\n",
    "ax2.set_ylim(0, 25)\n",
    "\n",
    "for ax in (ax1, ax2):\n",
    "    for where in (\"top\", \"right\"):\n",
    "        ax.spines[where].set_visible(False)\n",
    "        ax.tick_params(right=False, labelright=False)\n"
   ]
  },
  {
   "cell_type": "markdown",
   "id": "60f338d5",
   "metadata": {},
   "source": [
    "From 2014 Q2 to 2015 Q3, R was getting more and more popular and its popularity peaked in 2015 Q3, while Python was less popular than it. However, since then R's popularity was gradually declining, meanwhile Python's popularity was rising up. Since 2018, the percentage of R questions begins to flatten out and keeps around 3%, but Python is still higher than 15%.\n",
    "\n",
    "We cannot conclude that R is potentially popular in the future according the line plots, further investigation and more factors are needed to understand R's popularity. For now, we will not recommend Datamagician to create contents using R, if they still want to, we suggest it should be some general knowledge in `machine-learning`."
   ]
  },
  {
   "cell_type": "markdown",
   "id": "c11e7531",
   "metadata": {},
   "source": [
    "<a id=\"act\"></a>\n",
    "## Act & Recommendations"
   ]
  },
  {
   "cell_type": "markdown",
   "id": "444a464a",
   "metadata": {},
   "source": [
    "* The most popular data science questions are related to Machine Learning, or more specically, Deep Learning. We suggest creating practical tutorials for tools like `tensorflow` and `scikit-learn` that focused on **Deep Learning** , using **Python**."
   ]
  },
  {
   "cell_type": "markdown",
   "id": "c787634c",
   "metadata": {},
   "source": [
    "* **February** and **December**, **Saturday** and **Sunday** are months and days that have highest percentage of deeping learning questions, respectively. We suggest providing more coupons or discounts during that period to attract customers."
   ]
  },
  {
   "cell_type": "markdown",
   "id": "31518e7c",
   "metadata": {},
   "source": [
    "* We recommend Python rather than R given Python's popularity. If R tutorial is a must-have, we suggest focusing on general knowledge about **Machine Learning**."
   ]
  }
 ],
 "metadata": {
  "kernelspec": {
   "display_name": "Python 3 (ipykernel)",
   "language": "python",
   "name": "python3"
  },
  "language_info": {
   "codemirror_mode": {
    "name": "ipython",
    "version": 3
   },
   "file_extension": ".py",
   "mimetype": "text/x-python",
   "name": "python",
   "nbconvert_exporter": "python",
   "pygments_lexer": "ipython3",
   "version": "3.9.12"
  }
 },
 "nbformat": 4,
 "nbformat_minor": 5
}
